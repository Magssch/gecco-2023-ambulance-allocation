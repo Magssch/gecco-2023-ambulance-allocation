{
 "cells": [
  {
   "cell_type": "code",
   "execution_count": 55,
   "metadata": {},
   "outputs": [],
   "source": [
    "import io\n",
    "import math\n",
    "import os\n",
    "\n",
    "import numpy as np\n",
    "import pandas as pd\n",
    "import seaborn as sns"
   ]
  },
  {
   "cell_type": "code",
   "execution_count": 56,
   "metadata": {},
   "outputs": [],
   "source": [
    "# Change directory to scripts folder\n",
    "directory = os.getcwd().split('/')[-1]\n",
    "\n",
    "if directory == 'notebooks':\n",
    "    %cd .."
   ]
  },
  {
   "cell_type": "code",
   "execution_count": 57,
   "metadata": {},
   "outputs": [
    {
     "name": "stdout",
     "output_type": "stream",
     "text": [
      "matplotlib backend: module://matplotlib_inline.backend_inline\n"
     ]
    }
   ],
   "source": [
    "# Matplotlib setup\n",
    "import matplotlib\n",
    "\n",
    "# matplotlib.use('PDF')\n",
    "\n",
    "import matplotlib.pyplot as plt\n",
    "print(f'matplotlib backend: {matplotlib.get_backend()}')"
   ]
  },
  {
   "cell_type": "code",
   "execution_count": 58,
   "metadata": {},
   "outputs": [
    {
     "data": {
      "text/html": [
       "<div>\n",
       "<style scoped>\n",
       "    .dataframe tbody tr th:only-of-type {\n",
       "        vertical-align: middle;\n",
       "    }\n",
       "\n",
       "    .dataframe tbody tr th {\n",
       "        vertical-align: top;\n",
       "    }\n",
       "\n",
       "    .dataframe thead th {\n",
       "        text-align: right;\n",
       "    }\n",
       "</style>\n",
       "<table border=\"1\" class=\"dataframe\">\n",
       "  <thead>\n",
       "    <tr style=\"text-align: right;\">\n",
       "      <th></th>\n",
       "      <th>hastegrad</th>\n",
       "      <th>ssbid1000M</th>\n",
       "    </tr>\n",
       "    <tr>\n",
       "      <th>tidspunkt</th>\n",
       "      <th></th>\n",
       "      <th></th>\n",
       "    </tr>\n",
       "  </thead>\n",
       "  <tbody>\n",
       "    <tr>\n",
       "      <th>2015-02-13 09:23:18</th>\n",
       "      <td>A</td>\n",
       "      <td>22640006631000</td>\n",
       "    </tr>\n",
       "    <tr>\n",
       "      <th>2015-02-13 14:01:29</th>\n",
       "      <td>A</td>\n",
       "      <td>22420006641000</td>\n",
       "    </tr>\n",
       "    <tr>\n",
       "      <th>2015-02-13 13:35:14</th>\n",
       "      <td>V1</td>\n",
       "      <td>22650006640000</td>\n",
       "    </tr>\n",
       "    <tr>\n",
       "      <th>2015-02-13 05:09:00</th>\n",
       "      <td>H</td>\n",
       "      <td>22640006652000</td>\n",
       "    </tr>\n",
       "    <tr>\n",
       "      <th>2015-02-13 16:00:39</th>\n",
       "      <td>V1</td>\n",
       "      <td>22530006621000</td>\n",
       "    </tr>\n",
       "    <tr>\n",
       "      <th>...</th>\n",
       "      <td>...</td>\n",
       "      <td>...</td>\n",
       "    </tr>\n",
       "    <tr>\n",
       "      <th>2016-12-14 11:00:00</th>\n",
       "      <td>V1</td>\n",
       "      <td>22690006570000</td>\n",
       "    </tr>\n",
       "    <tr>\n",
       "      <th>2017-12-15 09:00:00</th>\n",
       "      <td>V2</td>\n",
       "      <td>23050006671000</td>\n",
       "    </tr>\n",
       "    <tr>\n",
       "      <th>2016-11-03 08:00:00</th>\n",
       "      <td>V2</td>\n",
       "      <td>22830006611000</td>\n",
       "    </tr>\n",
       "    <tr>\n",
       "      <th>2017-10-18 07:00:00</th>\n",
       "      <td>V2</td>\n",
       "      <td>22680006645000</td>\n",
       "    </tr>\n",
       "    <tr>\n",
       "      <th>2017-08-09 08:00:00</th>\n",
       "      <td>V2</td>\n",
       "      <td>22680006645000</td>\n",
       "    </tr>\n",
       "  </tbody>\n",
       "</table>\n",
       "<p>754811 rows × 2 columns</p>\n",
       "</div>"
      ],
      "text/plain": [
       "                    hastegrad      ssbid1000M\n",
       "tidspunkt                                    \n",
       "2015-02-13 09:23:18         A  22640006631000\n",
       "2015-02-13 14:01:29         A  22420006641000\n",
       "2015-02-13 13:35:14        V1  22650006640000\n",
       "2015-02-13 05:09:00         H  22640006652000\n",
       "2015-02-13 16:00:39        V1  22530006621000\n",
       "...                       ...             ...\n",
       "2016-12-14 11:00:00        V1  22690006570000\n",
       "2017-12-15 09:00:00        V2  23050006671000\n",
       "2016-11-03 08:00:00        V2  22830006611000\n",
       "2017-10-18 07:00:00        V2  22680006645000\n",
       "2017-08-09 08:00:00        V2  22680006645000\n",
       "\n",
       "[754811 rows x 2 columns]"
      ]
     },
     "execution_count": 58,
     "metadata": {},
     "output_type": "execute_result"
    }
   ],
   "source": [
    "incidents = pd.read_csv('proprietary_data/cleaned_data.csv', index_col=1, parse_dates=True, usecols=['tidspunkt', 'ssbid1000M', 'hastegrad'])\n",
    "incidents"
   ]
  },
  {
   "cell_type": "code",
   "execution_count": 59,
   "metadata": {},
   "outputs": [
    {
     "data": {
      "text/html": [
       "<div>\n",
       "<style scoped>\n",
       "    .dataframe tbody tr th:only-of-type {\n",
       "        vertical-align: middle;\n",
       "    }\n",
       "\n",
       "    .dataframe tbody tr th {\n",
       "        vertical-align: top;\n",
       "    }\n",
       "\n",
       "    .dataframe thead th {\n",
       "        text-align: right;\n",
       "    }\n",
       "</style>\n",
       "<table border=\"1\" class=\"dataframe\">\n",
       "  <thead>\n",
       "    <tr style=\"text-align: right;\">\n",
       "      <th></th>\n",
       "      <th>hastegrad</th>\n",
       "    </tr>\n",
       "    <tr>\n",
       "      <th>tidspunkt</th>\n",
       "      <th></th>\n",
       "    </tr>\n",
       "  </thead>\n",
       "  <tbody>\n",
       "    <tr>\n",
       "      <th>2015-02-13 09:23:18</th>\n",
       "      <td>A</td>\n",
       "    </tr>\n",
       "    <tr>\n",
       "      <th>2015-02-13 14:01:29</th>\n",
       "      <td>A</td>\n",
       "    </tr>\n",
       "    <tr>\n",
       "      <th>2015-02-13 13:35:14</th>\n",
       "      <td>V1</td>\n",
       "    </tr>\n",
       "    <tr>\n",
       "      <th>2015-02-13 05:09:00</th>\n",
       "      <td>H</td>\n",
       "    </tr>\n",
       "    <tr>\n",
       "      <th>2015-02-13 16:00:39</th>\n",
       "      <td>V1</td>\n",
       "    </tr>\n",
       "    <tr>\n",
       "      <th>...</th>\n",
       "      <td>...</td>\n",
       "    </tr>\n",
       "    <tr>\n",
       "      <th>2015-11-02 08:00:00</th>\n",
       "      <td>V2</td>\n",
       "    </tr>\n",
       "    <tr>\n",
       "      <th>2017-09-27 10:15:00</th>\n",
       "      <td>V2</td>\n",
       "    </tr>\n",
       "    <tr>\n",
       "      <th>2017-12-15 09:00:00</th>\n",
       "      <td>V2</td>\n",
       "    </tr>\n",
       "    <tr>\n",
       "      <th>2017-10-18 07:00:00</th>\n",
       "      <td>V2</td>\n",
       "    </tr>\n",
       "    <tr>\n",
       "      <th>2017-08-09 08:00:00</th>\n",
       "      <td>V2</td>\n",
       "    </tr>\n",
       "  </tbody>\n",
       "</table>\n",
       "<p>585374 rows × 1 columns</p>\n",
       "</div>"
      ],
      "text/plain": [
       "                    hastegrad\n",
       "tidspunkt                    \n",
       "2015-02-13 09:23:18         A\n",
       "2015-02-13 14:01:29         A\n",
       "2015-02-13 13:35:14        V1\n",
       "2015-02-13 05:09:00         H\n",
       "2015-02-13 16:00:39        V1\n",
       "...                       ...\n",
       "2015-11-02 08:00:00        V2\n",
       "2017-09-27 10:15:00        V2\n",
       "2017-12-15 09:00:00        V2\n",
       "2017-10-18 07:00:00        V2\n",
       "2017-08-09 08:00:00        V2\n",
       "\n",
       "[585374 rows x 1 columns]"
      ]
     },
     "execution_count": 59,
     "metadata": {},
     "output_type": "execute_result"
    }
   ],
   "source": [
    "# Filter regions \n",
    "oslo = pd.read_csv(\"data/oslo.csv\", encoding=\"utf-8\", index_col=4)\n",
    "akershus = pd.read_csv(\"data/akershus.csv\", encoding=\"utf-8\", index_col=4)\n",
    "oslo_and_akershus_data = pd.concat([oslo, akershus])\n",
    "\n",
    "# Create indices based on SSB grids\n",
    "oslo_and_akershus = oslo_and_akershus_data.index\n",
    "df_cells = pd.Index(incidents[\"ssbid1000M\"])\n",
    "\n",
    "# Filter out all incident cells that are not located in Oslo and Akershus\n",
    "incidents = incidents[df_cells.isin(oslo_and_akershus)]\n",
    "\n",
    "incidents = incidents.drop(['ssbid1000M'], axis=1)\n",
    "incidents"
   ]
  },
  {
   "cell_type": "code",
   "execution_count": 60,
   "metadata": {},
   "outputs": [
    {
     "data": {
      "text/html": [
       "<div>\n",
       "<style scoped>\n",
       "    .dataframe tbody tr th:only-of-type {\n",
       "        vertical-align: middle;\n",
       "    }\n",
       "\n",
       "    .dataframe tbody tr th {\n",
       "        vertical-align: top;\n",
       "    }\n",
       "\n",
       "    .dataframe thead th {\n",
       "        text-align: right;\n",
       "    }\n",
       "</style>\n",
       "<table border=\"1\" class=\"dataframe\">\n",
       "  <thead>\n",
       "    <tr style=\"text-align: right;\">\n",
       "      <th></th>\n",
       "      <th>hastegrad</th>\n",
       "    </tr>\n",
       "    <tr>\n",
       "      <th>tidspunkt</th>\n",
       "      <th></th>\n",
       "    </tr>\n",
       "  </thead>\n",
       "  <tbody>\n",
       "    <tr>\n",
       "      <th>2018-01-02 09:00:00</th>\n",
       "      <td>V2</td>\n",
       "    </tr>\n",
       "    <tr>\n",
       "      <th>2018-01-01 00:18:04</th>\n",
       "      <td>A</td>\n",
       "    </tr>\n",
       "    <tr>\n",
       "      <th>2018-01-01 00:18:04</th>\n",
       "      <td>A</td>\n",
       "    </tr>\n",
       "    <tr>\n",
       "      <th>2018-01-01 01:01:00</th>\n",
       "      <td>A</td>\n",
       "    </tr>\n",
       "    <tr>\n",
       "      <th>2018-01-01 01:55:04</th>\n",
       "      <td>A</td>\n",
       "    </tr>\n",
       "    <tr>\n",
       "      <th>...</th>\n",
       "      <td>...</td>\n",
       "    </tr>\n",
       "    <tr>\n",
       "      <th>2018-10-12 11:00:00</th>\n",
       "      <td>V2</td>\n",
       "    </tr>\n",
       "    <tr>\n",
       "      <th>2018-07-05 10:30:00</th>\n",
       "      <td>V2</td>\n",
       "    </tr>\n",
       "    <tr>\n",
       "      <th>2018-09-03 10:30:00</th>\n",
       "      <td>V2</td>\n",
       "    </tr>\n",
       "    <tr>\n",
       "      <th>2018-10-18 07:30:00</th>\n",
       "      <td>V2</td>\n",
       "    </tr>\n",
       "    <tr>\n",
       "      <th>2018-08-01 08:10:00</th>\n",
       "      <td>V2</td>\n",
       "    </tr>\n",
       "  </tbody>\n",
       "</table>\n",
       "<p>153492 rows × 1 columns</p>\n",
       "</div>"
      ],
      "text/plain": [
       "                    hastegrad\n",
       "tidspunkt                    \n",
       "2018-01-02 09:00:00        V2\n",
       "2018-01-01 00:18:04         A\n",
       "2018-01-01 00:18:04         A\n",
       "2018-01-01 01:01:00         A\n",
       "2018-01-01 01:55:04         A\n",
       "...                       ...\n",
       "2018-10-12 11:00:00        V2\n",
       "2018-07-05 10:30:00        V2\n",
       "2018-09-03 10:30:00        V2\n",
       "2018-10-18 07:30:00        V2\n",
       "2018-08-01 08:10:00        V2\n",
       "\n",
       "[153492 rows x 1 columns]"
      ]
     },
     "execution_count": 60,
     "metadata": {},
     "output_type": "execute_result"
    }
   ],
   "source": [
    "incidents = incidents[incidents.index.year == 2018]\n",
    "incidents"
   ]
  },
  {
   "cell_type": "code",
   "execution_count": 61,
   "metadata": {},
   "outputs": [
    {
     "data": {
      "text/plain": [
       "tidspunkt  hastegrad\n",
       "False      A            26823\n",
       "           H            25116\n",
       "           V1            5096\n",
       "           V2            2555\n",
       "           V                2\n",
       "True       A            37201\n",
       "           H            33828\n",
       "           V2           11757\n",
       "           V1           11105\n",
       "           V                6\n",
       "dtype: int64"
      ]
     },
     "execution_count": 61,
     "metadata": {},
     "output_type": "execute_result"
    }
   ],
   "source": [
    "shifts = incidents.groupby(lambda t: 8 < t.hour < 20).value_counts()\n",
    "shifts"
   ]
  },
  {
   "cell_type": "code",
   "execution_count": 63,
   "metadata": {},
   "outputs": [
    {
     "ename": "TypeError",
     "evalue": "unhashable type: 'MultiIndex'",
     "output_type": "error",
     "traceback": [
      "\u001b[0;31m---------------------------------------------------------------------------\u001b[0m",
      "\u001b[0;31mTypeError\u001b[0m                                 Traceback (most recent call last)",
      "\u001b[1;32m/home/nicklas/repos/gecco-2023-ambulance-allocation/scripts/notebooks/nicklas_ad_hoc_statistics.ipynb Cell 8\u001b[0m in \u001b[0;36m<cell line: 1>\u001b[0;34m()\u001b[0m\n\u001b[0;32m----> <a href='vscode-notebook-cell:/home/nicklas/repos/gecco-2023-ambulance-allocation/scripts/notebooks/nicklas_ad_hoc_statistics.ipynb#X13sZmlsZQ%3D%3D?line=0'>1</a>\u001b[0m shifts \u001b[39m=\u001b[39m shifts\u001b[39m.\u001b[39;49mmap({\n\u001b[1;32m      <a href='vscode-notebook-cell:/home/nicklas/repos/gecco-2023-ambulance-allocation/scripts/notebooks/nicklas_ad_hoc_statistics.ipynb#X13sZmlsZQ%3D%3D?line=1'>2</a>\u001b[0m     (\u001b[39mFalse\u001b[39;49;00m, \u001b[39m'\u001b[39;49m\u001b[39mV1\u001b[39;49m\u001b[39m'\u001b[39;49m): \u001b[39m'\u001b[39;49m\u001b[39mV\u001b[39;49m\u001b[39m'\u001b[39;49m, \n\u001b[1;32m      <a href='vscode-notebook-cell:/home/nicklas/repos/gecco-2023-ambulance-allocation/scripts/notebooks/nicklas_ad_hoc_statistics.ipynb#X13sZmlsZQ%3D%3D?line=2'>3</a>\u001b[0m     (\u001b[39mFalse\u001b[39;49;00m, \u001b[39m'\u001b[39;49m\u001b[39mV2\u001b[39;49m\u001b[39m'\u001b[39;49m): \u001b[39m'\u001b[39;49m\u001b[39mV\u001b[39;49m\u001b[39m'\u001b[39;49m, \n\u001b[1;32m      <a href='vscode-notebook-cell:/home/nicklas/repos/gecco-2023-ambulance-allocation/scripts/notebooks/nicklas_ad_hoc_statistics.ipynb#X13sZmlsZQ%3D%3D?line=3'>4</a>\u001b[0m     (\u001b[39mFalse\u001b[39;49;00m, \u001b[39m'\u001b[39;49m\u001b[39mA\u001b[39;49m\u001b[39m'\u001b[39;49m): \u001b[39m'\u001b[39;49m\u001b[39mA/H\u001b[39;49m\u001b[39m'\u001b[39;49m, \n\u001b[1;32m      <a href='vscode-notebook-cell:/home/nicklas/repos/gecco-2023-ambulance-allocation/scripts/notebooks/nicklas_ad_hoc_statistics.ipynb#X13sZmlsZQ%3D%3D?line=4'>5</a>\u001b[0m     (\u001b[39mFalse\u001b[39;49;00m, \u001b[39m'\u001b[39;49m\u001b[39mH\u001b[39;49m\u001b[39m'\u001b[39;49m): \u001b[39m'\u001b[39;49m\u001b[39mA/H\u001b[39;49m\u001b[39m'\u001b[39;49m,\n\u001b[1;32m      <a href='vscode-notebook-cell:/home/nicklas/repos/gecco-2023-ambulance-allocation/scripts/notebooks/nicklas_ad_hoc_statistics.ipynb#X13sZmlsZQ%3D%3D?line=5'>6</a>\u001b[0m     (\u001b[39mTrue\u001b[39;49;00m, \u001b[39m'\u001b[39;49m\u001b[39mV1\u001b[39;49m\u001b[39m'\u001b[39;49m): \u001b[39m'\u001b[39;49m\u001b[39mV\u001b[39;49m\u001b[39m'\u001b[39;49m, \n\u001b[1;32m      <a href='vscode-notebook-cell:/home/nicklas/repos/gecco-2023-ambulance-allocation/scripts/notebooks/nicklas_ad_hoc_statistics.ipynb#X13sZmlsZQ%3D%3D?line=6'>7</a>\u001b[0m     (\u001b[39mTrue\u001b[39;49;00m, \u001b[39m'\u001b[39;49m\u001b[39mV2\u001b[39;49m\u001b[39m'\u001b[39;49m): \u001b[39m'\u001b[39;49m\u001b[39mV\u001b[39;49m\u001b[39m'\u001b[39;49m, \n\u001b[1;32m      <a href='vscode-notebook-cell:/home/nicklas/repos/gecco-2023-ambulance-allocation/scripts/notebooks/nicklas_ad_hoc_statistics.ipynb#X13sZmlsZQ%3D%3D?line=7'>8</a>\u001b[0m     (\u001b[39mTrue\u001b[39;49;00m, \u001b[39m'\u001b[39;49m\u001b[39mA\u001b[39;49m\u001b[39m'\u001b[39;49m): \u001b[39m'\u001b[39;49m\u001b[39mA/H\u001b[39;49m\u001b[39m'\u001b[39;49m, \n\u001b[1;32m      <a href='vscode-notebook-cell:/home/nicklas/repos/gecco-2023-ambulance-allocation/scripts/notebooks/nicklas_ad_hoc_statistics.ipynb#X13sZmlsZQ%3D%3D?line=8'>9</a>\u001b[0m     (\u001b[39mTrue\u001b[39;49;00m, \u001b[39m'\u001b[39;49m\u001b[39mH\u001b[39;49m\u001b[39m'\u001b[39;49m): \u001b[39m'\u001b[39;49m\u001b[39mA/H\u001b[39;49m\u001b[39m'\u001b[39;49m,\n\u001b[1;32m     <a href='vscode-notebook-cell:/home/nicklas/repos/gecco-2023-ambulance-allocation/scripts/notebooks/nicklas_ad_hoc_statistics.ipynb#X13sZmlsZQ%3D%3D?line=9'>10</a>\u001b[0m })\n\u001b[1;32m     <a href='vscode-notebook-cell:/home/nicklas/repos/gecco-2023-ambulance-allocation/scripts/notebooks/nicklas_ad_hoc_statistics.ipynb#X13sZmlsZQ%3D%3D?line=11'>12</a>\u001b[0m shifts\n",
      "File \u001b[0;32m~/repos/gecco-2023-ambulance-allocation/scripts/venv/lib/python3.10/site-packages/pandas/core/series.py:4234\u001b[0m, in \u001b[0;36mSeries.map\u001b[0;34m(self, arg, na_action)\u001b[0m\n\u001b[1;32m   4159\u001b[0m \u001b[39mdef\u001b[39;00m \u001b[39mmap\u001b[39m(\u001b[39mself\u001b[39m, arg, na_action\u001b[39m=\u001b[39m\u001b[39mNone\u001b[39;00m) \u001b[39m-\u001b[39m\u001b[39m>\u001b[39m Series:\n\u001b[1;32m   4160\u001b[0m     \u001b[39m\"\"\"\u001b[39;00m\n\u001b[1;32m   4161\u001b[0m \u001b[39m    Map values of Series according to an input mapping or function.\u001b[39;00m\n\u001b[1;32m   4162\u001b[0m \n\u001b[0;32m   (...)\u001b[0m\n\u001b[1;32m   4232\u001b[0m \u001b[39m    dtype: object\u001b[39;00m\n\u001b[1;32m   4233\u001b[0m \u001b[39m    \"\"\"\u001b[39;00m\n\u001b[0;32m-> 4234\u001b[0m     new_values \u001b[39m=\u001b[39m \u001b[39mself\u001b[39;49m\u001b[39m.\u001b[39;49m_map_values(arg, na_action\u001b[39m=\u001b[39;49mna_action)\n\u001b[1;32m   4235\u001b[0m     \u001b[39mreturn\u001b[39;00m \u001b[39mself\u001b[39m\u001b[39m.\u001b[39m_constructor(new_values, index\u001b[39m=\u001b[39m\u001b[39mself\u001b[39m\u001b[39m.\u001b[39mindex)\u001b[39m.\u001b[39m__finalize__(\n\u001b[1;32m   4236\u001b[0m         \u001b[39mself\u001b[39m, method\u001b[39m=\u001b[39m\u001b[39m\"\u001b[39m\u001b[39mmap\u001b[39m\u001b[39m\"\u001b[39m\n\u001b[1;32m   4237\u001b[0m     )\n",
      "File \u001b[0;32m~/repos/gecco-2023-ambulance-allocation/scripts/venv/lib/python3.10/site-packages/pandas/core/base.py:852\u001b[0m, in \u001b[0;36mIndexOpsMixin._map_values\u001b[0;34m(self, mapper, na_action)\u001b[0m\n\u001b[1;32m    848\u001b[0m     \u001b[39mreturn\u001b[39;00m cat\u001b[39m.\u001b[39mmap(mapper)\n\u001b[1;32m    850\u001b[0m values \u001b[39m=\u001b[39m \u001b[39mself\u001b[39m\u001b[39m.\u001b[39m_values\n\u001b[0;32m--> 852\u001b[0m indexer \u001b[39m=\u001b[39m mapper\u001b[39m.\u001b[39;49mindex\u001b[39m.\u001b[39;49mget_indexer(values)\n\u001b[1;32m    853\u001b[0m new_values \u001b[39m=\u001b[39m algorithms\u001b[39m.\u001b[39mtake_nd(mapper\u001b[39m.\u001b[39m_values, indexer)\n\u001b[1;32m    855\u001b[0m \u001b[39mreturn\u001b[39;00m new_values\n",
      "File \u001b[0;32m~/repos/gecco-2023-ambulance-allocation/scripts/venv/lib/python3.10/site-packages/pandas/core/indexes/base.py:3764\u001b[0m, in \u001b[0;36mIndex.get_indexer\u001b[0;34m(self, target, method, limit, tolerance)\u001b[0m\n\u001b[1;32m   3762\u001b[0m pself, ptarget \u001b[39m=\u001b[39m \u001b[39mself\u001b[39m\u001b[39m.\u001b[39m_maybe_promote(target)\n\u001b[1;32m   3763\u001b[0m \u001b[39mif\u001b[39;00m pself \u001b[39mis\u001b[39;00m \u001b[39mnot\u001b[39;00m \u001b[39mself\u001b[39m \u001b[39mor\u001b[39;00m ptarget \u001b[39mis\u001b[39;00m \u001b[39mnot\u001b[39;00m target:\n\u001b[0;32m-> 3764\u001b[0m     \u001b[39mreturn\u001b[39;00m pself\u001b[39m.\u001b[39;49mget_indexer(\n\u001b[1;32m   3765\u001b[0m         ptarget, method\u001b[39m=\u001b[39;49mmethod, limit\u001b[39m=\u001b[39;49mlimit, tolerance\u001b[39m=\u001b[39;49mtolerance\n\u001b[1;32m   3766\u001b[0m     )\n\u001b[1;32m   3768\u001b[0m \u001b[39mif\u001b[39;00m is_dtype_equal(\u001b[39mself\u001b[39m\u001b[39m.\u001b[39mdtype, target\u001b[39m.\u001b[39mdtype) \u001b[39mand\u001b[39;00m \u001b[39mself\u001b[39m\u001b[39m.\u001b[39mequals(target):\n\u001b[1;32m   3769\u001b[0m     \u001b[39m# Only call equals if we have same dtype to avoid inference/casting\u001b[39;00m\n\u001b[1;32m   3770\u001b[0m     \u001b[39mreturn\u001b[39;00m np\u001b[39m.\u001b[39marange(\u001b[39mlen\u001b[39m(target), dtype\u001b[39m=\u001b[39mnp\u001b[39m.\u001b[39mintp)\n",
      "File \u001b[0;32m~/repos/gecco-2023-ambulance-allocation/scripts/venv/lib/python3.10/site-packages/pandas/core/indexes/base.py:3784\u001b[0m, in \u001b[0;36mIndex.get_indexer\u001b[0;34m(self, target, method, limit, tolerance)\u001b[0m\n\u001b[1;32m   3779\u001b[0m     target \u001b[39m=\u001b[39m target\u001b[39m.\u001b[39mastype(dtype, copy\u001b[39m=\u001b[39m\u001b[39mFalse\u001b[39;00m)\n\u001b[1;32m   3780\u001b[0m     \u001b[39mreturn\u001b[39;00m this\u001b[39m.\u001b[39m_get_indexer(\n\u001b[1;32m   3781\u001b[0m         target, method\u001b[39m=\u001b[39mmethod, limit\u001b[39m=\u001b[39mlimit, tolerance\u001b[39m=\u001b[39mtolerance\n\u001b[1;32m   3782\u001b[0m     )\n\u001b[0;32m-> 3784\u001b[0m \u001b[39mreturn\u001b[39;00m \u001b[39mself\u001b[39;49m\u001b[39m.\u001b[39;49m_get_indexer(target, method, limit, tolerance)\n",
      "File \u001b[0;32m~/repos/gecco-2023-ambulance-allocation/scripts/venv/lib/python3.10/site-packages/pandas/core/indexes/base.py:3809\u001b[0m, in \u001b[0;36mIndex._get_indexer\u001b[0;34m(self, target, method, limit, tolerance)\u001b[0m\n\u001b[1;32m   3804\u001b[0m         \u001b[39m# error: \"IndexEngine\" has no attribute \"_extract_level_codes\"\u001b[39;00m\n\u001b[1;32m   3805\u001b[0m         tgt_values \u001b[39m=\u001b[39m engine\u001b[39m.\u001b[39m_extract_level_codes(  \u001b[39m# type: ignore[attr-defined]\u001b[39;00m\n\u001b[1;32m   3806\u001b[0m             target\n\u001b[1;32m   3807\u001b[0m         )\n\u001b[0;32m-> 3809\u001b[0m     indexer \u001b[39m=\u001b[39m \u001b[39mself\u001b[39;49m\u001b[39m.\u001b[39;49m_engine\u001b[39m.\u001b[39;49mget_indexer(tgt_values)\n\u001b[1;32m   3811\u001b[0m \u001b[39mreturn\u001b[39;00m ensure_platform_int(indexer)\n",
      "File \u001b[0;32m~/repos/gecco-2023-ambulance-allocation/scripts/venv/lib/python3.10/site-packages/pandas/_libs/index.pyx:305\u001b[0m, in \u001b[0;36mpandas._libs.index.IndexEngine.get_indexer\u001b[0;34m()\u001b[0m\n",
      "File \u001b[0;32mpandas/_libs/hashtable_class_helper.pxi:5247\u001b[0m, in \u001b[0;36mpandas._libs.hashtable.PyObjectHashTable.lookup\u001b[0;34m()\u001b[0m\n",
      "\u001b[0;31mTypeError\u001b[0m: unhashable type: 'MultiIndex'"
     ]
    }
   ],
   "source": [
    "shifts = shifts.index.map({\n",
    "    (False, 'V1'): 'V', \n",
    "    (False, 'V2'): 'V', \n",
    "    (False, 'A'): 'A/H', \n",
    "    (False, 'H'): 'A/H',\n",
    "    (True, 'V1'): 'V', \n",
    "    (True, 'V2'): 'V', \n",
    "    (True, 'A'): 'A/H', \n",
    "    (True, 'H'): 'A/H',\n",
    "})\n",
    "\n",
    "shifts"
   ]
  },
  {
   "cell_type": "code",
   "execution_count": null,
   "metadata": {},
   "outputs": [
    {
     "data": {
      "image/png": "[encoded data removed]",
      "text/plain": [
       "<Figure size 792x288 with 2 Axes>"
      ]
     },
     "metadata": {},
     "output_type": "display_data"
    }
   ],
   "source": [
    "fig, (ax1, ax2) = plt.subplots(nrows=1, ncols=2, figsize=(11, 4))\n",
    "\n",
    "labels = shifts[False].index\n",
    "sizes_night = shifts[False].values\n",
    "sizes_day = shifts[True].values\n",
    "\n",
    "\n",
    "ax1.pie(sizes_day, labels=labels, autopct='%1.1f%%', shadow=True, startangle=90)\n",
    "ax1.set_title('Night shift')\n",
    "ax1.axis('equal')\n",
    "ax2.pie(sizes_night, labels=labels, autopct='%1.1f%%', shadow=True, startangle=90)\n",
    "ax2.set_title('Day shift')\n",
    "ax2.axis('equal')\n",
    "\n",
    "plt.show()"
   ]
  }
 ],
 "metadata": {
  "kernelspec": {
   "display_name": "venv",
   "language": "python",
   "name": "python3"
  },
  "language_info": {
   "codemirror_mode": {
    "name": "ipython",
    "version": 3
   },
   "file_extension": ".py",
   "mimetype": "text/x-python",
   "name": "python",
   "nbconvert_exporter": "python",
   "pygments_lexer": "ipython3",
   "version": "3.10.6"
  },
  "orig_nbformat": 4,
  "vscode": {
   "interpreter": {
    "hash": "20418bcb101ca20e4e4f91b19789718533c5333d162cd624f05843b59c2d8a65"
   }
  }
 },
 "nbformat": 4,
 "nbformat_minor": 2
}
