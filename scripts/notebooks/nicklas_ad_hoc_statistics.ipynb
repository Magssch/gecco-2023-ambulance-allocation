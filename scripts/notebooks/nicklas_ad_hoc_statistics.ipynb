{
 "cells": [
  {
   "cell_type": "code",
   "execution_count": 88,
   "metadata": {},
   "outputs": [],
   "source": [
    "import io\n",
    "import math\n",
    "import os\n",
    "\n",
    "import numpy as np\n",
    "import pandas as pd\n",
    "import seaborn as sns"
   ]
  },
  {
   "cell_type": "code",
   "execution_count": 89,
   "metadata": {},
   "outputs": [],
   "source": [
    "# Change directory to scripts folder\n",
    "directory = os.getcwd().split('/')[-1]\n",
    "\n",
    "if directory == 'notebooks':\n",
    "    %cd .."
   ]
  },
  {
   "cell_type": "code",
   "execution_count": 90,
   "metadata": {},
   "outputs": [
    {
     "name": "stdout",
     "output_type": "stream",
     "text": [
      "matplotlib backend: module://matplotlib_inline.backend_inline\n"
     ]
    }
   ],
   "source": [
    "# Matplotlib setup\n",
    "import matplotlib\n",
    "\n",
    "# matplotlib.use('PDF')\n",
    "\n",
    "import matplotlib.pyplot as plt\n",
    "print(f'matplotlib backend: {matplotlib.get_backend()}')"
   ]
  },
  {
   "cell_type": "code",
   "execution_count": 104,
   "metadata": {},
   "outputs": [
    {
     "data": {
      "text/html": [
       "<div>\n",
       "<style scoped>\n",
       "    .dataframe tbody tr th:only-of-type {\n",
       "        vertical-align: middle;\n",
       "    }\n",
       "\n",
       "    .dataframe tbody tr th {\n",
       "        vertical-align: top;\n",
       "    }\n",
       "\n",
       "    .dataframe thead th {\n",
       "        text-align: right;\n",
       "    }\n",
       "</style>\n",
       "<table border=\"1\" class=\"dataframe\">\n",
       "  <thead>\n",
       "    <tr style=\"text-align: right;\">\n",
       "      <th></th>\n",
       "      <th>hastegrad</th>\n",
       "    </tr>\n",
       "    <tr>\n",
       "      <th>tidspunkt</th>\n",
       "      <th></th>\n",
       "    </tr>\n",
       "  </thead>\n",
       "  <tbody>\n",
       "    <tr>\n",
       "      <th>2015-02-13 09:23:18</th>\n",
       "      <td>A</td>\n",
       "    </tr>\n",
       "    <tr>\n",
       "      <th>2015-02-13 14:01:29</th>\n",
       "      <td>A</td>\n",
       "    </tr>\n",
       "    <tr>\n",
       "      <th>2015-02-13 13:35:14</th>\n",
       "      <td>V1</td>\n",
       "    </tr>\n",
       "    <tr>\n",
       "      <th>2015-02-13 05:09:00</th>\n",
       "      <td>H</td>\n",
       "    </tr>\n",
       "    <tr>\n",
       "      <th>2015-02-13 16:00:39</th>\n",
       "      <td>V1</td>\n",
       "    </tr>\n",
       "    <tr>\n",
       "      <th>...</th>\n",
       "      <td>...</td>\n",
       "    </tr>\n",
       "    <tr>\n",
       "      <th>2016-12-14 11:00:00</th>\n",
       "      <td>V1</td>\n",
       "    </tr>\n",
       "    <tr>\n",
       "      <th>2017-12-15 09:00:00</th>\n",
       "      <td>V2</td>\n",
       "    </tr>\n",
       "    <tr>\n",
       "      <th>2016-11-03 08:00:00</th>\n",
       "      <td>V2</td>\n",
       "    </tr>\n",
       "    <tr>\n",
       "      <th>2017-10-18 07:00:00</th>\n",
       "      <td>V2</td>\n",
       "    </tr>\n",
       "    <tr>\n",
       "      <th>2017-08-09 08:00:00</th>\n",
       "      <td>V2</td>\n",
       "    </tr>\n",
       "  </tbody>\n",
       "</table>\n",
       "<p>754811 rows × 1 columns</p>\n",
       "</div>"
      ],
      "text/plain": [
       "                    hastegrad\n",
       "tidspunkt                    \n",
       "2015-02-13 09:23:18         A\n",
       "2015-02-13 14:01:29         A\n",
       "2015-02-13 13:35:14        V1\n",
       "2015-02-13 05:09:00         H\n",
       "2015-02-13 16:00:39        V1\n",
       "...                       ...\n",
       "2016-12-14 11:00:00        V1\n",
       "2017-12-15 09:00:00        V2\n",
       "2016-11-03 08:00:00        V2\n",
       "2017-10-18 07:00:00        V2\n",
       "2017-08-09 08:00:00        V2\n",
       "\n",
       "[754811 rows x 1 columns]"
      ]
     },
     "execution_count": 104,
     "metadata": {},
     "output_type": "execute_result"
    }
   ],
   "source": [
    "incidents = pd.read_csv('proprietary_data/cleaned_data.csv', index_col=1, parse_dates=True, usecols=['tidspunkt', 'hastegrad'])\n",
    "incidents"
   ]
  },
  {
   "cell_type": "code",
   "execution_count": 107,
   "metadata": {},
   "outputs": [
    {
     "data": {
      "text/plain": [
       "tidspunkt  hastegrad\n",
       "False      A            131563\n",
       "           H            119887\n",
       "           V1            21884\n",
       "           V2            15341\n",
       "           V                 4\n",
       "True       A            181722\n",
       "           H            165643\n",
       "           V2            63570\n",
       "           V1            55136\n",
       "           V                52\n",
       "dtype: int64"
      ]
     },
     "execution_count": 107,
     "metadata": {},
     "output_type": "execute_result"
    }
   ],
   "source": [
    "shifts = incidents.groupby(lambda t: 8 < t.hour < 20).value_counts()\n",
    "shifts"
   ]
  },
  {
   "cell_type": "code",
   "execution_count": 117,
   "metadata": {},
   "outputs": [
    {
     "data": {
      "image/png": "[encoded data removed]",
      "text/plain": [
       "<Figure size 792x288 with 2 Axes>"
      ]
     },
     "metadata": {},
     "output_type": "display_data"
    }
   ],
   "source": [
    "fig, (ax1, ax2) = plt.subplots(nrows=1, ncols=2, figsize=(11, 4))\n",
    "\n",
    "labels = shifts[False].index\n",
    "sizes_night = shifts[False].values\n",
    "sizes_day = shifts[True].values\n",
    "\n",
    "\n",
    "ax1.pie(sizes_day, labels=labels, autopct='%1.1f%%', shadow=True, startangle=90)\n",
    "ax1.set_title('Night shift')\n",
    "ax1.axis('equal')\n",
    "ax2.pie(sizes_night, labels=labels, autopct='%1.1f%%', shadow=True, startangle=90)\n",
    "ax2.set_title('Day shift')\n",
    "ax2.axis('equal')\n",
    "\n",
    "plt.show()"
   ]
  }
 ],
 "metadata": {
  "kernelspec": {
   "display_name": "venv",
   "language": "python",
   "name": "python3"
  },
  "language_info": {
   "codemirror_mode": {
    "name": "ipython",
    "version": 3
   },
   "file_extension": ".py",
   "mimetype": "text/x-python",
   "name": "python",
   "nbconvert_exporter": "python",
   "pygments_lexer": "ipython3",
   "version": "3.10.6"
  },
  "orig_nbformat": 4,
  "vscode": {
   "interpreter": {
    "hash": "20418bcb101ca20e4e4f91b19789718533c5333d162cd624f05843b59c2d8a65"
   }
  }
 },
 "nbformat": 4,
 "nbformat_minor": 2
}
