{
 "cells": [
  {
   "cell_type": "code",
   "execution_count": 1,
   "metadata": {},
   "outputs": [],
   "source": [
    "import io\n",
    "import math\n",
    "import os\n",
    "\n",
    "import numpy as np\n",
    "import pandas as pd\n",
    "import seaborn as sns"
   ]
  },
  {
   "cell_type": "code",
   "execution_count": 2,
   "metadata": {},
   "outputs": [
    {
     "name": "stdout",
     "output_type": "stream",
     "text": [
      "/Users/mschjolber001/repos/gecco-2023-ambulance-allocation/scripts\n"
     ]
    }
   ],
   "source": [
    "# Change directory to scripts folder\n",
    "directory = os.getcwd().split('/')[-1]\n",
    "\n",
    "if directory == 'notebooks':\n",
    "    %cd .."
   ]
  },
  {
   "cell_type": "code",
   "execution_count": 3,
   "metadata": {},
   "outputs": [
    {
     "name": "stdout",
     "output_type": "stream",
     "text": [
      "matplotlib backend: module://matplotlib_inline.backend_inline\n"
     ]
    }
   ],
   "source": [
    "# Matplotlib setup\n",
    "import matplotlib\n",
    "\n",
    "# matplotlib.use('PDF')\n",
    "\n",
    "import matplotlib.pyplot as plt\n",
    "print(f'matplotlib backend: {matplotlib.get_backend()}')"
   ]
  },
  {
   "cell_type": "code",
   "execution_count": 4,
   "metadata": {},
   "outputs": [
    {
     "data": {
      "text/html": [
       "<div>\n",
       "<style scoped>\n",
       "    .dataframe tbody tr th:only-of-type {\n",
       "        vertical-align: middle;\n",
       "    }\n",
       "\n",
       "    .dataframe tbody tr th {\n",
       "        vertical-align: top;\n",
       "    }\n",
       "\n",
       "    .dataframe thead th {\n",
       "        text-align: right;\n",
       "    }\n",
       "</style>\n",
       "<table border=\"1\" class=\"dataframe\">\n",
       "  <thead>\n",
       "    <tr style=\"text-align: right;\">\n",
       "      <th></th>\n",
       "      <th>hastegrad</th>\n",
       "      <th>ssbid1000M</th>\n",
       "    </tr>\n",
       "    <tr>\n",
       "      <th>tidspunkt</th>\n",
       "      <th></th>\n",
       "      <th></th>\n",
       "    </tr>\n",
       "  </thead>\n",
       "  <tbody>\n",
       "    <tr>\n",
       "      <th>2015-02-13 09:23:18</th>\n",
       "      <td>A</td>\n",
       "      <td>22640006631000</td>\n",
       "    </tr>\n",
       "    <tr>\n",
       "      <th>2015-02-13 14:01:29</th>\n",
       "      <td>A</td>\n",
       "      <td>22420006641000</td>\n",
       "    </tr>\n",
       "    <tr>\n",
       "      <th>2015-02-13 13:35:14</th>\n",
       "      <td>V1</td>\n",
       "      <td>22650006640000</td>\n",
       "    </tr>\n",
       "    <tr>\n",
       "      <th>2015-02-13 05:09:00</th>\n",
       "      <td>H</td>\n",
       "      <td>22640006652000</td>\n",
       "    </tr>\n",
       "    <tr>\n",
       "      <th>2015-02-13 16:00:39</th>\n",
       "      <td>V1</td>\n",
       "      <td>22530006621000</td>\n",
       "    </tr>\n",
       "    <tr>\n",
       "      <th>...</th>\n",
       "      <td>...</td>\n",
       "      <td>...</td>\n",
       "    </tr>\n",
       "    <tr>\n",
       "      <th>2016-12-14 11:00:00</th>\n",
       "      <td>V1</td>\n",
       "      <td>22690006570000</td>\n",
       "    </tr>\n",
       "    <tr>\n",
       "      <th>2017-12-15 09:00:00</th>\n",
       "      <td>V2</td>\n",
       "      <td>23050006671000</td>\n",
       "    </tr>\n",
       "    <tr>\n",
       "      <th>2016-11-03 08:00:00</th>\n",
       "      <td>V2</td>\n",
       "      <td>22830006611000</td>\n",
       "    </tr>\n",
       "    <tr>\n",
       "      <th>2017-10-18 07:00:00</th>\n",
       "      <td>V2</td>\n",
       "      <td>22680006645000</td>\n",
       "    </tr>\n",
       "    <tr>\n",
       "      <th>2017-08-09 08:00:00</th>\n",
       "      <td>V2</td>\n",
       "      <td>22680006645000</td>\n",
       "    </tr>\n",
       "  </tbody>\n",
       "</table>\n",
       "<p>754811 rows × 2 columns</p>\n",
       "</div>"
      ],
      "text/plain": [
       "                    hastegrad      ssbid1000M\n",
       "tidspunkt                                    \n",
       "2015-02-13 09:23:18         A  22640006631000\n",
       "2015-02-13 14:01:29         A  22420006641000\n",
       "2015-02-13 13:35:14        V1  22650006640000\n",
       "2015-02-13 05:09:00         H  22640006652000\n",
       "2015-02-13 16:00:39        V1  22530006621000\n",
       "...                       ...             ...\n",
       "2016-12-14 11:00:00        V1  22690006570000\n",
       "2017-12-15 09:00:00        V2  23050006671000\n",
       "2016-11-03 08:00:00        V2  22830006611000\n",
       "2017-10-18 07:00:00        V2  22680006645000\n",
       "2017-08-09 08:00:00        V2  22680006645000\n",
       "\n",
       "[754811 rows x 2 columns]"
      ]
     },
     "execution_count": 4,
     "metadata": {},
     "output_type": "execute_result"
    }
   ],
   "source": [
    "incidents = pd.read_csv('proprietary_data/cleaned_data.csv', index_col=1, parse_dates=True, usecols=['tidspunkt', 'ssbid1000M', 'hastegrad'])\n",
    "incidents"
   ]
  },
  {
   "cell_type": "code",
   "execution_count": 5,
   "metadata": {},
   "outputs": [
    {
     "data": {
      "text/html": [
       "<div>\n",
       "<style scoped>\n",
       "    .dataframe tbody tr th:only-of-type {\n",
       "        vertical-align: middle;\n",
       "    }\n",
       "\n",
       "    .dataframe tbody tr th {\n",
       "        vertical-align: top;\n",
       "    }\n",
       "\n",
       "    .dataframe thead th {\n",
       "        text-align: right;\n",
       "    }\n",
       "</style>\n",
       "<table border=\"1\" class=\"dataframe\">\n",
       "  <thead>\n",
       "    <tr style=\"text-align: right;\">\n",
       "      <th></th>\n",
       "      <th>hastegrad</th>\n",
       "    </tr>\n",
       "    <tr>\n",
       "      <th>tidspunkt</th>\n",
       "      <th></th>\n",
       "    </tr>\n",
       "  </thead>\n",
       "  <tbody>\n",
       "    <tr>\n",
       "      <th>2015-02-13 09:23:18</th>\n",
       "      <td>A</td>\n",
       "    </tr>\n",
       "    <tr>\n",
       "      <th>2015-02-13 14:01:29</th>\n",
       "      <td>A</td>\n",
       "    </tr>\n",
       "    <tr>\n",
       "      <th>2015-02-13 13:35:14</th>\n",
       "      <td>V1</td>\n",
       "    </tr>\n",
       "    <tr>\n",
       "      <th>2015-02-13 05:09:00</th>\n",
       "      <td>H</td>\n",
       "    </tr>\n",
       "    <tr>\n",
       "      <th>2015-02-13 16:00:39</th>\n",
       "      <td>V1</td>\n",
       "    </tr>\n",
       "    <tr>\n",
       "      <th>...</th>\n",
       "      <td>...</td>\n",
       "    </tr>\n",
       "    <tr>\n",
       "      <th>2015-11-02 08:00:00</th>\n",
       "      <td>V2</td>\n",
       "    </tr>\n",
       "    <tr>\n",
       "      <th>2017-09-27 10:15:00</th>\n",
       "      <td>V2</td>\n",
       "    </tr>\n",
       "    <tr>\n",
       "      <th>2017-12-15 09:00:00</th>\n",
       "      <td>V2</td>\n",
       "    </tr>\n",
       "    <tr>\n",
       "      <th>2017-10-18 07:00:00</th>\n",
       "      <td>V2</td>\n",
       "    </tr>\n",
       "    <tr>\n",
       "      <th>2017-08-09 08:00:00</th>\n",
       "      <td>V2</td>\n",
       "    </tr>\n",
       "  </tbody>\n",
       "</table>\n",
       "<p>585374 rows × 1 columns</p>\n",
       "</div>"
      ],
      "text/plain": [
       "                    hastegrad\n",
       "tidspunkt                    \n",
       "2015-02-13 09:23:18         A\n",
       "2015-02-13 14:01:29         A\n",
       "2015-02-13 13:35:14        V1\n",
       "2015-02-13 05:09:00         H\n",
       "2015-02-13 16:00:39        V1\n",
       "...                       ...\n",
       "2015-11-02 08:00:00        V2\n",
       "2017-09-27 10:15:00        V2\n",
       "2017-12-15 09:00:00        V2\n",
       "2017-10-18 07:00:00        V2\n",
       "2017-08-09 08:00:00        V2\n",
       "\n",
       "[585374 rows x 1 columns]"
      ]
     },
     "execution_count": 5,
     "metadata": {},
     "output_type": "execute_result"
    }
   ],
   "source": [
    "# Filter regions \n",
    "oslo = pd.read_csv(\"data/oslo.csv\", encoding=\"utf-8\", index_col=4)\n",
    "akershus = pd.read_csv(\"data/akershus.csv\", encoding=\"utf-8\", index_col=4)\n",
    "oslo_and_akershus_data = pd.concat([oslo, akershus])\n",
    "\n",
    "# Create indices based on SSB grids\n",
    "oslo_and_akershus = oslo_and_akershus_data.index\n",
    "df_cells = pd.Index(incidents[\"ssbid1000M\"])\n",
    "\n",
    "# Filter out all incident cells that are not located in Oslo and Akershus\n",
    "incidents = incidents[df_cells.isin(oslo_and_akershus)]\n",
    "\n",
    "incidents = incidents.drop(['ssbid1000M'], axis=1)\n",
    "incidents"
   ]
  },
  {
   "cell_type": "code",
   "execution_count": 6,
   "metadata": {},
   "outputs": [
    {
     "data": {
      "text/html": [
       "<div>\n",
       "<style scoped>\n",
       "    .dataframe tbody tr th:only-of-type {\n",
       "        vertical-align: middle;\n",
       "    }\n",
       "\n",
       "    .dataframe tbody tr th {\n",
       "        vertical-align: top;\n",
       "    }\n",
       "\n",
       "    .dataframe thead th {\n",
       "        text-align: right;\n",
       "    }\n",
       "</style>\n",
       "<table border=\"1\" class=\"dataframe\">\n",
       "  <thead>\n",
       "    <tr style=\"text-align: right;\">\n",
       "      <th></th>\n",
       "      <th>hastegrad</th>\n",
       "    </tr>\n",
       "    <tr>\n",
       "      <th>tidspunkt</th>\n",
       "      <th></th>\n",
       "    </tr>\n",
       "  </thead>\n",
       "  <tbody>\n",
       "    <tr>\n",
       "      <th>2018-01-02 09:00:00</th>\n",
       "      <td>V2</td>\n",
       "    </tr>\n",
       "    <tr>\n",
       "      <th>2018-01-01 00:18:04</th>\n",
       "      <td>A</td>\n",
       "    </tr>\n",
       "    <tr>\n",
       "      <th>2018-01-01 00:18:04</th>\n",
       "      <td>A</td>\n",
       "    </tr>\n",
       "    <tr>\n",
       "      <th>2018-01-01 01:01:00</th>\n",
       "      <td>A</td>\n",
       "    </tr>\n",
       "    <tr>\n",
       "      <th>2018-01-01 01:55:04</th>\n",
       "      <td>A</td>\n",
       "    </tr>\n",
       "    <tr>\n",
       "      <th>...</th>\n",
       "      <td>...</td>\n",
       "    </tr>\n",
       "    <tr>\n",
       "      <th>2018-10-12 11:00:00</th>\n",
       "      <td>V2</td>\n",
       "    </tr>\n",
       "    <tr>\n",
       "      <th>2018-07-05 10:30:00</th>\n",
       "      <td>V2</td>\n",
       "    </tr>\n",
       "    <tr>\n",
       "      <th>2018-09-03 10:30:00</th>\n",
       "      <td>V2</td>\n",
       "    </tr>\n",
       "    <tr>\n",
       "      <th>2018-10-18 07:30:00</th>\n",
       "      <td>V2</td>\n",
       "    </tr>\n",
       "    <tr>\n",
       "      <th>2018-08-01 08:10:00</th>\n",
       "      <td>V2</td>\n",
       "    </tr>\n",
       "  </tbody>\n",
       "</table>\n",
       "<p>153492 rows × 1 columns</p>\n",
       "</div>"
      ],
      "text/plain": [
       "                    hastegrad\n",
       "tidspunkt                    \n",
       "2018-01-02 09:00:00        V2\n",
       "2018-01-01 00:18:04         A\n",
       "2018-01-01 00:18:04         A\n",
       "2018-01-01 01:01:00         A\n",
       "2018-01-01 01:55:04         A\n",
       "...                       ...\n",
       "2018-10-12 11:00:00        V2\n",
       "2018-07-05 10:30:00        V2\n",
       "2018-09-03 10:30:00        V2\n",
       "2018-10-18 07:30:00        V2\n",
       "2018-08-01 08:10:00        V2\n",
       "\n",
       "[153492 rows x 1 columns]"
      ]
     },
     "execution_count": 6,
     "metadata": {},
     "output_type": "execute_result"
    }
   ],
   "source": [
    "incidents = incidents[incidents.index.year == 2018]\n",
    "incidents"
   ]
  },
  {
   "cell_type": "code",
   "execution_count": 7,
   "metadata": {},
   "outputs": [
    {
     "data": {
      "text/plain": [
       "tidspunkt  hastegrad\n",
       "False      A            26823\n",
       "           H            25116\n",
       "           V1            5096\n",
       "           V2            2555\n",
       "           V                2\n",
       "True       A            37201\n",
       "           H            33828\n",
       "           V2           11757\n",
       "           V1           11105\n",
       "           V                6\n",
       "dtype: int64"
      ]
     },
     "execution_count": 7,
     "metadata": {},
     "output_type": "execute_result"
    }
   ],
   "source": [
    "shifts = incidents.groupby(lambda t: 8 < t.hour < 20).value_counts()\n",
    "shifts"
   ]
  },
  {
   "cell_type": "code",
   "execution_count": 8,
   "metadata": {},
   "outputs": [
    {
     "data": {
      "text/plain": [
       "tidspunkt  hastegrad\n",
       "day        A&H          71029\n",
       "           V            22868\n",
       "night      A&H          51939\n",
       "           V             7653\n",
       "dtype: int64"
      ]
     },
     "execution_count": 8,
     "metadata": {},
     "output_type": "execute_result"
    }
   ],
   "source": [
    "shifts.index = shifts.index.map({\n",
    "    (False, 'A'): ('night', 'A&H'), \n",
    "    (False, 'H'): ('night', 'A&H'),\n",
    "    (False, 'V1'): ('night', 'V'), \n",
    "    (False, 'V2'): ('night', 'V'), \n",
    "    (False, 'V'): ('night', 'V'), \n",
    "\n",
    "    (True, 'A'): ('day', 'A&H'), \n",
    "    (True, 'H'): ('day', 'A&H'),\n",
    "    (True, 'V1'): ('day', 'V'), \n",
    "    (True, 'V2'): ('day', 'V'), \n",
    "    (True, 'V'): ('day', 'V'), \n",
    "})\n",
    "\n",
    "shifts = shifts.groupby(['tidspunkt', 'hastegrad']).sum()\n",
    "shifts"
   ]
  },
  {
   "cell_type": "code",
   "execution_count": 9,
   "metadata": {},
   "outputs": [
    {
     "data": {
      "image/png": "[encoded data removed]",
      "text/plain": [
       "<Figure size 1100x400 with 2 Axes>"
      ]
     },
     "metadata": {},
     "output_type": "display_data"
    }
   ],
   "source": [
    "fig, (ax1, ax2) = plt.subplots(nrows=1, ncols=2, figsize=(11, 4))\n",
    "\n",
    "labels = shifts['night'].index\n",
    "sizes_night = shifts['night'].values\n",
    "sizes_day = shifts['day'].values\n",
    "\n",
    "\n",
    "ax1.pie(sizes_day, labels=labels, autopct='%1.1f%%', shadow=True, startangle=90)\n",
    "ax1.set_title('Day shift')\n",
    "ax1.axis('equal')\n",
    "ax2.pie(sizes_night, labels=labels, autopct='%1.1f%%', shadow=True, startangle=90)\n",
    "ax2.set_title('Night shift')\n",
    "ax2.axis('equal')\n",
    "\n",
    "plt.show()"
   ]
  }
 ],
 "metadata": {
  "kernelspec": {
   "display_name": "venv",
   "language": "python",
   "name": "python3"
  },
  "language_info": {
   "codemirror_mode": {
    "name": "ipython",
    "version": 3
   },
   "file_extension": ".py",
   "mimetype": "text/x-python",
   "name": "python",
   "nbconvert_exporter": "python",
   "pygments_lexer": "ipython3",
   "version": "3.11.1"
  },
  "orig_nbformat": 4,
  "vscode": {
   "interpreter": {
    "hash": "00bd06dd2c057449e8d6e70ebac7c42b3e5862905447754b8266129d8df20654"
   }
  }
 },
 "nbformat": 4,
 "nbformat_minor": 2
}
