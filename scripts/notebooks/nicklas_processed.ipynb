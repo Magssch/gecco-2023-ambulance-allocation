{
   "cells": [
      {
         "cell_type": "markdown",
         "metadata": {},
         "source": [
            "# Data preprocessing notebook"
         ]
      },
      {
         "cell_type": "markdown",
         "metadata": {},
         "source": [
            "## Imports"
         ]
      },
      {
         "cell_type": "code",
         "execution_count": null,
         "metadata": {},
         "outputs": [],
         "source": [
            "import os\n",
            "\n",
            "import pandas as pd\n",
            "\n",
            "directory = os.getcwd().split('/')[-1]\n",
            "\n",
            "if directory == 'notebooks':\n",
            "    %cd .."
         ]
      },
      {
         "cell_type": "markdown",
         "metadata": {},
         "source": [
            "## Load the data"
         ]
      },
      {
         "cell_type": "code",
         "execution_count": null,
         "metadata": {},
         "outputs": [],
         "source": [
            "cleaned_data_file = 'proprietary_data/cleaned_data.csv'\n",
            "incidents = pd.read_csv(cleaned_data_file, encoding='utf-8', index_col=3, escapechar='\\\\')\n",
            "incidents"
         ]
      },
      {
         "cell_type": "markdown",
         "metadata": {},
         "source": [
            "## Feature Description\n",
            "\n",
            "| Feature | Example | Note |\n",
            "| :--     | :--     | :--  |\n",
            "| id | 1, 2, ..., 814667 | id starting from 1 |\n",
            "| hastegrad | A, H, V, V1, V2 | A=acute, H=urgent, V=Ambulance transport, V1=?, V2=? |\n",
            "| tidspunkt | 13.02.2015 09:23:18 | Call received, response time starts |\n",
            "| tiltak_opprettet | 13.02.2015 09:29:23 | ? |\n",
            "| ressurs_id | 119 Legebil |  |\n",
            "| tiltak_type | Legebil | Vehicle type |\n",
            "| varslet | 13.02.2015 09:29:28 | Call answered |\n",
            "| rykker_ut | 13.02.2015 09:29:33 | Dispatch time |\n",
            "| ank_hentested | 10.07.2016  19:50:00  | Arrival at scene, response time stops |\n",
            "| avg_hentested | 10.07.2016  20:11:00  | Scene left |\n",
            "| ank_levsted | 10.07.2016  20:22:00  | Arrival at delivery location |\n",
            "| ledig | 10.07.2016  20:30:00  | Time available, reset time stop |\n",
            "| utrykningstid | 00:04:00 | Time from `varslet` to `ank_hentested` |\n",
            "| responstid | 00:05:00 | Response time |\n",
            "| gml_id | id40db6ef4-ac60-498a-ac0f-dc8104b154da | ? |\n",
            "| lokalId | c4f01ec3-3922-469d-9e8c-e5c26e66c9a2 | ? |\n",
            "| navnerom | http://skjema.geonorge.no/SOSI/produktspesifikasjon/BefolkningRutenett/20171201 | Grid XML specification |\n",
            "| versjonId | 20171201 |  |\n",
            "| oppdateringsdato | 2017-12-07T11:37:34 | Last modified |\n",
            "| datauttaksdato | 2017-12-04T11:04:05 | Date of retrieval |\n",
            "| opphav | Statistisk sentralbyrå | Source |\n",
            "| ssbid1000M | 22640006631000 | 1x1km SSB grid id |\n",
            "| rsize | 1000 | Grid size? |\n",
            "| col | 223 |  |\n",
            "| row | 349 |  |\n",
            "| xcoor | 242500 | UTM zone-33W easting |\n",
            "| ycoor | 6641500 | UTM zone-33W northing |\n",
            "| popTot | 1329 | Population total in grid? |\n",
            "| popAve | 38.1 | Population average in grid? |\n",
            "| popFem | 692 | Female population in grid? |\n",
            "| popMal | 637 | Male population in grid? |\n",
            "| statistikkÅr | 2016 | Statistics year of population data? |\n",
            "| geometry | c(264925, 6631996) | Centroid location? |\n"
         ]
      },
      {
         "cell_type": "markdown",
         "metadata": {},
         "source": [
            "# Filter out irrelevant regions"
         ]
      },
      {
         "cell_type": "code",
         "execution_count": null,
         "metadata": {},
         "outputs": [],
         "source": [
            "oslo = pd.read_csv('data/oslo.csv', encoding='utf-8', index_col=4)\n",
            "akershus = pd.read_csv('data/akershus.csv', encoding='utf-8', index_col=4)\n",
            "oslo_and_akershus_data = pd.concat([oslo, akershus])\n",
            "\n",
            "# Create indices based on SSB grids\n",
            "oslo_and_akershus = oslo_and_akershus_data.index\n",
            "incidents_cells = pd.Index(incidents['ssbid1000M'])\n",
            "\n",
            "# Print useful stats\n",
            "print('Oslo and Akershus cell count:', oslo_and_akershus.shape[0])\n",
            "print('Total cell count in dataset:', incidents_cells.unique().shape[0])\n",
            "print('Cells in dataset in Oslo and Akershus:', incidents_cells.unique().isin(oslo_and_akershus).sum())\n",
            "print('Empty cells in Oslo and Akershus:', oslo_and_akershus.shape[0] - incidents_cells.unique().isin(oslo_and_akershus).sum())\n",
            "\n",
            "initial_row_count = incidents.shape[0]\n",
            "print('Initial row count:', initial_row_count)\n",
            "\n",
            "# Filter out all incident cells that are not located in Oslo and Akershus\n",
            "incidents = incidents[incidents_cells.isin(oslo_and_akershus)]\n",
            "\n",
            "# Save empty cells to file\n",
            "empty_cells = oslo_and_akershus_data[~oslo_and_akershus.isin(incidents_cells)]\n",
            "empty_cells.to_csv('data/empty_cells.csv')\n",
            "\n",
            "rows_removed = initial_row_count - incidents.shape[0]\n",
            "print(f'Rows removed: {rows_removed}')"
         ]
      },
      {
         "cell_type": "markdown",
         "metadata": {},
         "source": [
            "## Feature dropping\n",
            "\n",
            "The features: ... are not currently used, and can therefore be dropped."
         ]
      },
      {
         "cell_type": "code",
         "execution_count": null,
         "metadata": {},
         "outputs": [],
         "source": [
            "features_to_keep = ['rykker_ut', 'ank_hentested', 'avg_hentested', 'ledig', 'xcoor', 'ycoor', 'hastegrad', 'tiltak_type']\n",
            "incidents = incidents[features_to_keep]\n",
            "incidents"
         ]
      },
      {
         "cell_type": "code",
         "execution_count": null,
         "metadata": {},
         "outputs": [],
         "source": [
            "incidents.groupby('hastegrad').count()"
         ]
      },
      {
         "cell_type": "markdown",
         "metadata": {},
         "source": [
            "# Remove incomplete years\n",
            "\n",
            "2001, 2002, and 2005 contains only 4 rows in total,  \n",
            "while 2019 were incomplete\n",
            "\n",
            "This could take a while (~1 min)"
         ]
      },
      {
         "cell_type": "code",
         "execution_count": null,
         "metadata": {},
         "outputs": [],
         "source": [
            "incidents.index = pd.DatetimeIndex(incidents.index)\n",
            "yearly_incidents = incidents['hastegrad'].groupby([incidents.index.year]).count()\n",
            "yearly_incidents"
         ]
      },
      {
         "cell_type": "code",
         "execution_count": null,
         "metadata": {},
         "outputs": [],
         "source": [
            "# incidents = incidents[incidents.index.year >= 2015]\n",
            "# incidents = incidents[incidents.index.year < 2019]\n",
            "incidents = incidents[incidents.index.year == 2018]  # <- year of interest"
         ]
      },
      {
         "cell_type": "code",
         "execution_count": null,
         "metadata": {},
         "outputs": [],
         "source": [
            "# yearly_incidents = incidents['hastegrad'].groupby([incidents.index.year]).count()\n",
            "# yearly_incidents"
         ]
      },
      {
         "cell_type": "markdown",
         "metadata": {},
         "source": [
            "# Remove irrelevant dispatch type"
         ]
      },
      {
         "cell_type": "code",
         "execution_count": null,
         "metadata": {},
         "outputs": [],
         "source": [
            "incidents = incidents[incidents['tiltak_type'] != 'Operativ Leder']"
         ]
      },
      {
         "cell_type": "markdown",
         "metadata": {},
         "source": [
            "# Aggregate concurrent incidents"
         ]
      },
      {
         "cell_type": "code",
         "execution_count": null,
         "metadata": {},
         "outputs": [],
         "source": [
            "# Incidents with this index is considered concurring incidents\n",
            "index = ['tidspunkt', 'xcoor', 'ycoor']"
         ]
      },
      {
         "cell_type": "code",
         "execution_count": null,
         "metadata": {},
         "outputs": [],
         "source": [
            "vehicles_assigned = incidents.groupby(index).size()\n",
            "vehicles_assigned.name = 'vehicles_assigned'\n",
            "vehicles_assigned"
         ]
      },
      {
         "cell_type": "code",
         "execution_count": null,
         "metadata": {},
         "outputs": [],
         "source": [
            "transporting_vehicles = incidents.groupby(index).count()['avg_hentested']\n",
            "transporting_vehicles.name = 'transporting_vehicles'\n",
            "transporting_vehicles"
         ]
      },
      {
         "cell_type": "code",
         "execution_count": null,
         "metadata": {},
         "outputs": [],
         "source": [
            "cancelled_vehicles = incidents.groupby(index).agg({'ank_hentested': lambda x: x.isnull().sum()})\n",
            "cancelled_vehicles = cancelled_vehicles.squeeze()\n",
            "cancelled_vehicles.name = 'cancelled_vehicles'\n",
            "cancelled_vehicles"
         ]
      },
      {
         "cell_type": "code",
         "execution_count": null,
         "metadata": {},
         "outputs": [],
         "source": [
            "grouped_data = pd.concat([vehicles_assigned, transporting_vehicles, cancelled_vehicles], axis=1)\n",
            "incidents = incidents.set_index([incidents.index, 'xcoor', 'ycoor']).join(grouped_data)\n",
            "incidents"
         ]
      },
      {
         "cell_type": "code",
         "execution_count": null,
         "metadata": {},
         "outputs": [],
         "source": [
            "incidents.groupby(incidents.index).first()"
         ]
      },
      {
         "cell_type": "markdown",
         "metadata": {},
         "source": [
            "## Save processed dataset"
         ]
      },
      {
         "cell_type": "code",
         "execution_count": null,
         "metadata": {},
         "outputs": [],
         "source": [
            "incidents = incidents.sort_index()\n",
            "incidents['rykker_ut'] = pd.to_datetime(incidents['rykker_ut'], dayfirst=True)\n",
            "incidents['ank_hentested'] = pd.to_datetime(incidents['ank_hentested'], dayfirst=True)\n",
            "incidents['avg_hentested'] = pd.to_datetime(incidents['avg_hentested'], dayfirst=True)\n",
            "incidents['ledig'] = pd.to_datetime(incidents['ledig'], dayfirst=True)\n",
            "incidents"
         ]
      },
      {
         "cell_type": "code",
         "execution_count": null,
         "metadata": {},
         "outputs": [],
         "source": [
            "incidents.to_csv('data/processed_data.csv')"
         ]
      },
      {
         "cell_type": "code",
         "execution_count": null,
         "metadata": {},
         "outputs": [],
         "source": []
      }
   ],
   "metadata": {
      "interpreter": {
         "hash": "f184aa211d1f81305dbc20d7c09977a60945f02e46fae10caf77f0aa95bb8618"
      },
      "kernelspec": {
         "display_name": "Python 3.9.7 ('venv': venv)",
         "language": "python",
         "name": "python3"
      },
      "language_info": {
         "codemirror_mode": {
            "name": "ipython",
            "version": 3
         },
         "file_extension": ".py",
         "mimetype": "text/x-python",
         "name": "python",
         "nbconvert_exporter": "python",
         "pygments_lexer": "ipython3",
         "version": "3.9.7"
      }
   },
   "nbformat": 4,
   "nbformat_minor": 2
}