{
 "cells": [
  {
   "attachments": {},
   "cell_type": "markdown",
   "metadata": {},
   "source": [
    "# Spacial distribution / anonymization"
   ]
  },
  {
   "attachments": {},
   "cell_type": "markdown",
   "metadata": {},
   "source": [
    "## Imports and config"
   ]
  },
  {
   "cell_type": "code",
   "execution_count": 271,
   "metadata": {},
   "outputs": [],
   "source": [
    "import io\n",
    "import math\n",
    "import os\n",
    "\n",
    "import folium\n",
    "import geojson\n",
    "import numpy as np\n",
    "import pandas as pd\n",
    "import seaborn as sns\n",
    "from PIL import Image"
   ]
  },
  {
   "cell_type": "code",
   "execution_count": 272,
   "metadata": {},
   "outputs": [],
   "source": [
    "# Change directory to scripts folder\n",
    "directory = os.getcwd().split('/')[-1]\n",
    "\n",
    "if directory == 'notebooks':\n",
    "    %cd .."
   ]
  },
  {
   "cell_type": "code",
   "execution_count": 273,
   "metadata": {},
   "outputs": [
    {
     "name": "stdout",
     "output_type": "stream",
     "text": [
      "matplotlib backend: module://matplotlib_inline.backend_inline\n"
     ]
    }
   ],
   "source": [
    "# Matplotlib setup\n",
    "import matplotlib\n",
    "\n",
    "# matplotlib.use('PDF')\n",
    "\n",
    "import matplotlib.pyplot as plt\n",
    "print(f'matplotlib backend: {matplotlib.get_backend()}')"
   ]
  },
  {
   "cell_type": "code",
   "execution_count": 274,
   "metadata": {},
   "outputs": [],
   "source": [
    "# configuration variables\n",
    "should_save = False"
   ]
  },
  {
   "attachments": {},
   "cell_type": "markdown",
   "metadata": {},
   "source": [
    "## Load"
   ]
  },
  {
   "cell_type": "code",
   "execution_count": 275,
   "metadata": {},
   "outputs": [
    {
     "data": {
      "text/html": [
       "<div>\n",
       "<style scoped>\n",
       "    .dataframe tbody tr th:only-of-type {\n",
       "        vertical-align: middle;\n",
       "    }\n",
       "\n",
       "    .dataframe tbody tr th {\n",
       "        vertical-align: top;\n",
       "    }\n",
       "\n",
       "    .dataframe thead th {\n",
       "        text-align: right;\n",
       "    }\n",
       "</style>\n",
       "<table border=\"1\" class=\"dataframe\">\n",
       "  <thead>\n",
       "    <tr style=\"text-align: right;\">\n",
       "      <th></th>\n",
       "      <th>hastegrad</th>\n",
       "      <th>tidspunkt</th>\n",
       "      <th>ssbid1000M</th>\n",
       "      <th>xcoor</th>\n",
       "      <th>ycoor</th>\n",
       "    </tr>\n",
       "  </thead>\n",
       "  <tbody>\n",
       "    <tr>\n",
       "      <th>0</th>\n",
       "      <td>A</td>\n",
       "      <td>2015-02-13 09:23:18</td>\n",
       "      <td>22640006631000</td>\n",
       "      <td>264500</td>\n",
       "      <td>6631500</td>\n",
       "    </tr>\n",
       "    <tr>\n",
       "      <th>1</th>\n",
       "      <td>A</td>\n",
       "      <td>2015-02-13 14:01:29</td>\n",
       "      <td>22420006641000</td>\n",
       "      <td>242500</td>\n",
       "      <td>6641500</td>\n",
       "    </tr>\n",
       "    <tr>\n",
       "      <th>2</th>\n",
       "      <td>V1</td>\n",
       "      <td>2015-02-13 13:35:14</td>\n",
       "      <td>22650006640000</td>\n",
       "      <td>265500</td>\n",
       "      <td>6640500</td>\n",
       "    </tr>\n",
       "    <tr>\n",
       "      <th>3</th>\n",
       "      <td>H</td>\n",
       "      <td>2015-02-13 05:09:00</td>\n",
       "      <td>22640006652000</td>\n",
       "      <td>264500</td>\n",
       "      <td>6652500</td>\n",
       "    </tr>\n",
       "    <tr>\n",
       "      <th>4</th>\n",
       "      <td>V1</td>\n",
       "      <td>2015-02-13 16:00:39</td>\n",
       "      <td>22530006621000</td>\n",
       "      <td>253500</td>\n",
       "      <td>6621500</td>\n",
       "    </tr>\n",
       "    <tr>\n",
       "      <th>...</th>\n",
       "      <td>...</td>\n",
       "      <td>...</td>\n",
       "      <td>...</td>\n",
       "      <td>...</td>\n",
       "      <td>...</td>\n",
       "    </tr>\n",
       "    <tr>\n",
       "      <th>754806</th>\n",
       "      <td>V1</td>\n",
       "      <td>2016-12-14 11:00:00</td>\n",
       "      <td>22690006570000</td>\n",
       "      <td>269500</td>\n",
       "      <td>6570500</td>\n",
       "    </tr>\n",
       "    <tr>\n",
       "      <th>754807</th>\n",
       "      <td>V2</td>\n",
       "      <td>2017-12-15 09:00:00</td>\n",
       "      <td>23050006671000</td>\n",
       "      <td>305500</td>\n",
       "      <td>6671500</td>\n",
       "    </tr>\n",
       "    <tr>\n",
       "      <th>754808</th>\n",
       "      <td>V2</td>\n",
       "      <td>2016-11-03 08:00:00</td>\n",
       "      <td>22830006611000</td>\n",
       "      <td>283500</td>\n",
       "      <td>6611500</td>\n",
       "    </tr>\n",
       "    <tr>\n",
       "      <th>754809</th>\n",
       "      <td>V2</td>\n",
       "      <td>2017-10-18 07:00:00</td>\n",
       "      <td>22680006645000</td>\n",
       "      <td>268500</td>\n",
       "      <td>6645500</td>\n",
       "    </tr>\n",
       "    <tr>\n",
       "      <th>754810</th>\n",
       "      <td>V2</td>\n",
       "      <td>2017-08-09 08:00:00</td>\n",
       "      <td>22680006645000</td>\n",
       "      <td>268500</td>\n",
       "      <td>6645500</td>\n",
       "    </tr>\n",
       "  </tbody>\n",
       "</table>\n",
       "<p>754811 rows × 5 columns</p>\n",
       "</div>"
      ],
      "text/plain": [
       "       hastegrad            tidspunkt      ssbid1000M   xcoor    ycoor\n",
       "0              A  2015-02-13 09:23:18  22640006631000  264500  6631500\n",
       "1              A  2015-02-13 14:01:29  22420006641000  242500  6641500\n",
       "2             V1  2015-02-13 13:35:14  22650006640000  265500  6640500\n",
       "3              H  2015-02-13 05:09:00  22640006652000  264500  6652500\n",
       "4             V1  2015-02-13 16:00:39  22530006621000  253500  6621500\n",
       "...          ...                  ...             ...     ...      ...\n",
       "754806        V1  2016-12-14 11:00:00  22690006570000  269500  6570500\n",
       "754807        V2  2017-12-15 09:00:00  23050006671000  305500  6671500\n",
       "754808        V2  2016-11-03 08:00:00  22830006611000  283500  6611500\n",
       "754809        V2  2017-10-18 07:00:00  22680006645000  268500  6645500\n",
       "754810        V2  2017-08-09 08:00:00  22680006645000  268500  6645500\n",
       "\n",
       "[754811 rows x 5 columns]"
      ]
     },
     "execution_count": 275,
     "metadata": {},
     "output_type": "execute_result"
    }
   ],
   "source": [
    "fields = ['tidspunkt', 'xcoor', 'ycoor', 'hastegrad', 'ssbid1000M']\n",
    "incidents = pd.read_csv('proprietary_data/cleaned_data.csv', usecols=fields)\n",
    "incidents"
   ]
  },
  {
   "attachments": {},
   "cell_type": "markdown",
   "metadata": {},
   "source": [
    "## Filter out cells outside of Oslo and Akershus"
   ]
  },
  {
   "cell_type": "code",
   "execution_count": 276,
   "metadata": {},
   "outputs": [
    {
     "name": "stdout",
     "output_type": "stream",
     "text": [
      "Oslo and Akershus cell count: 5569\n",
      "Total cell count in dataset: 5089\n",
      "Cells in dataset in Oslo and Akershus: 2606\n",
      "Empty cells in Oslo and Akershus: 2963\n",
      "Initial row count: 754811\n",
      "Rows remaining: 585374\n",
      "Rows removed: 169437\n"
     ]
    }
   ],
   "source": [
    "oslo = pd.read_csv('data/oslo.csv', encoding='utf-8', index_col=4)\n",
    "akershus = pd.read_csv('data/akershus.csv', encoding='utf-8', index_col=4)\n",
    "oslo_and_akershus_data = pd.concat([oslo, akershus])\n",
    "\n",
    "# Create indices based on SSB grids\n",
    "oslo_and_akershus = oslo_and_akershus_data.index\n",
    "incidents_cells = pd.Index(incidents['ssbid1000M'])\n",
    "\n",
    "# Print useful stats\n",
    "print('Oslo and Akershus cell count:', oslo_and_akershus.shape[0])\n",
    "print('Total cell count in dataset:', incidents_cells.unique().shape[0])\n",
    "print('Cells in dataset in Oslo and Akershus:', incidents_cells.unique().isin(oslo_and_akershus).sum())\n",
    "print('Empty cells in Oslo and Akershus:', oslo_and_akershus.shape[0] - incidents_cells.unique().isin(oslo_and_akershus).sum())\n",
    "\n",
    "initial_row_count = incidents.shape[0]\n",
    "print('Initial row count:', initial_row_count)\n",
    "\n",
    "# Filter out all incident cells that are not located in Oslo and Akershus\n",
    "incidents = incidents[incidents_cells.isin(oslo_and_akershus)]\n",
    "\n",
    "rows_remaining = incidents.shape[0]\n",
    "print(f'Rows remaining: {rows_remaining}')\n",
    "\n",
    "rows_removed = initial_row_count - rows_remaining\n",
    "print(f'Rows removed: {rows_removed}')"
   ]
  },
  {
   "cell_type": "code",
   "execution_count": 277,
   "metadata": {},
   "outputs": [
    {
     "data": {
      "text/html": [
       "<div>\n",
       "<style scoped>\n",
       "    .dataframe tbody tr th:only-of-type {\n",
       "        vertical-align: middle;\n",
       "    }\n",
       "\n",
       "    .dataframe tbody tr th {\n",
       "        vertical-align: top;\n",
       "    }\n",
       "\n",
       "    .dataframe thead th {\n",
       "        text-align: right;\n",
       "    }\n",
       "</style>\n",
       "<table border=\"1\" class=\"dataframe\">\n",
       "  <thead>\n",
       "    <tr style=\"text-align: right;\">\n",
       "      <th></th>\n",
       "      <th>xcoor</th>\n",
       "      <th>ycoor</th>\n",
       "      <th>ssbid1000M</th>\n",
       "    </tr>\n",
       "  </thead>\n",
       "  <tbody>\n",
       "    <tr>\n",
       "      <th>0</th>\n",
       "      <td>264500</td>\n",
       "      <td>6631500</td>\n",
       "      <td>22640006631000</td>\n",
       "    </tr>\n",
       "    <tr>\n",
       "      <th>1</th>\n",
       "      <td>242500</td>\n",
       "      <td>6641500</td>\n",
       "      <td>22420006641000</td>\n",
       "    </tr>\n",
       "    <tr>\n",
       "      <th>2</th>\n",
       "      <td>265500</td>\n",
       "      <td>6640500</td>\n",
       "      <td>22650006640000</td>\n",
       "    </tr>\n",
       "    <tr>\n",
       "      <th>3</th>\n",
       "      <td>264500</td>\n",
       "      <td>6652500</td>\n",
       "      <td>22640006652000</td>\n",
       "    </tr>\n",
       "    <tr>\n",
       "      <th>4</th>\n",
       "      <td>253500</td>\n",
       "      <td>6621500</td>\n",
       "      <td>22530006621000</td>\n",
       "    </tr>\n",
       "    <tr>\n",
       "      <th>...</th>\n",
       "      <td>...</td>\n",
       "      <td>...</td>\n",
       "      <td>...</td>\n",
       "    </tr>\n",
       "    <tr>\n",
       "      <th>754801</th>\n",
       "      <td>264500</td>\n",
       "      <td>6643500</td>\n",
       "      <td>22640006643000</td>\n",
       "    </tr>\n",
       "    <tr>\n",
       "      <th>754805</th>\n",
       "      <td>269500</td>\n",
       "      <td>6652500</td>\n",
       "      <td>22690006652000</td>\n",
       "    </tr>\n",
       "    <tr>\n",
       "      <th>754807</th>\n",
       "      <td>305500</td>\n",
       "      <td>6671500</td>\n",
       "      <td>23050006671000</td>\n",
       "    </tr>\n",
       "    <tr>\n",
       "      <th>754809</th>\n",
       "      <td>268500</td>\n",
       "      <td>6645500</td>\n",
       "      <td>22680006645000</td>\n",
       "    </tr>\n",
       "    <tr>\n",
       "      <th>754810</th>\n",
       "      <td>268500</td>\n",
       "      <td>6645500</td>\n",
       "      <td>22680006645000</td>\n",
       "    </tr>\n",
       "  </tbody>\n",
       "</table>\n",
       "<p>585374 rows × 3 columns</p>\n",
       "</div>"
      ],
      "text/plain": [
       "         xcoor    ycoor      ssbid1000M\n",
       "0       264500  6631500  22640006631000\n",
       "1       242500  6641500  22420006641000\n",
       "2       265500  6640500  22650006640000\n",
       "3       264500  6652500  22640006652000\n",
       "4       253500  6621500  22530006621000\n",
       "...        ...      ...             ...\n",
       "754801  264500  6643500  22640006643000\n",
       "754805  269500  6652500  22690006652000\n",
       "754807  305500  6671500  23050006671000\n",
       "754809  268500  6645500  22680006645000\n",
       "754810  268500  6645500  22680006645000\n",
       "\n",
       "[585374 rows x 3 columns]"
      ]
     },
     "execution_count": 277,
     "metadata": {},
     "output_type": "execute_result"
    }
   ],
   "source": [
    "spacial = incidents[['xcoor', 'ycoor', 'ssbid1000M']]\n",
    "spacial"
   ]
  },
  {
   "attachments": {},
   "cell_type": "markdown",
   "metadata": {},
   "source": [
    "## Create distribution and resample data"
   ]
  },
  {
   "cell_type": "code",
   "execution_count": 278,
   "metadata": {},
   "outputs": [
    {
     "name": "stdout",
     "output_type": "stream",
     "text": [
      "Sum: 1.0\n"
     ]
    },
    {
     "data": {
      "text/plain": [
       "22620006649000    0.085200\n",
       "22760006650000    0.029545\n",
       "22600006653000    0.026207\n",
       "22480006648000    0.018057\n",
       "22620006651000    0.016760\n",
       "                    ...   \n",
       "22880006679000    0.000002\n",
       "23000006631000    0.000002\n",
       "22690006617000    0.000002\n",
       "23060006624000    0.000002\n",
       "22610006632000    0.000002\n",
       "Name: ssbid1000M, Length: 2606, dtype: float64"
      ]
     },
     "execution_count": 278,
     "metadata": {},
     "output_type": "execute_result"
    }
   ],
   "source": [
    "distribution = spacial['ssbid1000M'].value_counts() / len(spacial)\n",
    "print(f'Sum: {distribution.sum()}')\n",
    "distribution"
   ]
  },
  {
   "cell_type": "code",
   "execution_count": 279,
   "metadata": {},
   "outputs": [
    {
     "data": {
      "text/plain": [
       "22620006649000    49874\n",
       "22760006650000    17295\n",
       "22600006653000    15341\n",
       "22480006648000    10570\n",
       "22620006651000     9811\n",
       "                  ...  \n",
       "22880006679000        1\n",
       "23000006631000        1\n",
       "22690006617000        1\n",
       "23060006624000        1\n",
       "22610006632000        1\n",
       "Name: ssbid1000M, Length: 2606, dtype: int64"
      ]
     },
     "execution_count": 279,
     "metadata": {},
     "output_type": "execute_result"
    }
   ],
   "source": [
    "spacial['ssbid1000M'].value_counts()"
   ]
  },
  {
   "cell_type": "code",
   "execution_count": 280,
   "metadata": {},
   "outputs": [
    {
     "name": "stdout",
     "output_type": "stream",
     "text": [
      "Sum: 1.0000000000000002\n"
     ]
    },
    {
     "data": {
      "text/plain": [
       "22620006649000    0.085527\n",
       "22760006650000    0.029511\n",
       "22600006653000    0.026486\n",
       "22480006648000    0.018101\n",
       "22620006651000    0.016487\n",
       "                    ...   \n",
       "22880006640000    0.000002\n",
       "23040006674000    0.000002\n",
       "23060006638000    0.000002\n",
       "22730006629000    0.000002\n",
       "23000006637000    0.000002\n",
       "Length: 2511, dtype: float64"
      ]
     },
     "execution_count": 280,
     "metadata": {},
     "output_type": "execute_result"
    }
   ],
   "source": [
    "resampled = np.random.choice(distribution.index, p=distribution, size=len(spacial))\n",
    "resampled = pd.Series(resampled, name='ssbid1000M')\n",
    "resampled_distribution = resampled.value_counts() / len(resampled)\n",
    "print(f'Sum: {resampled_distribution.sum()}')\n",
    "resampled_distribution"
   ]
  },
  {
   "cell_type": "code",
   "execution_count": 281,
   "metadata": {},
   "outputs": [
    {
     "data": {
      "text/plain": [
       "22620006649000    0.085527\n",
       "22760006650000    0.029511\n",
       "22600006653000    0.026486\n",
       "22480006648000    0.018101\n",
       "22620006651000    0.016487\n",
       "                    ...   \n",
       "23140006635000    0.000000\n",
       "23140006641000    0.000000\n",
       "23150006648000    0.000000\n",
       "23170006649000    0.000000\n",
       "23180006649000    0.000000\n",
       "Length: 2606, dtype: float64"
      ]
     },
     "execution_count": 281,
     "metadata": {},
     "output_type": "execute_result"
    }
   ],
   "source": [
    "# Add missing IDs with zero probability to match length\n",
    "missing_ids = distribution.index.difference(resampled_distribution.index)\n",
    "resampled_distribution = pd.concat([resampled_distribution, pd.Series(0.0, index=missing_ids)])\n",
    "resampled_distribution"
   ]
  },
  {
   "cell_type": "code",
   "execution_count": 282,
   "metadata": {},
   "outputs": [
    {
     "name": "stdout",
     "output_type": "stream",
     "text": [
      "Unique IDs in original data set: 2606\n",
      "Unique IDs in resampled data set: 2606\n"
     ]
    }
   ],
   "source": [
    "print(f'Unique IDs in original data set: {len(distribution.index.unique())}')\n",
    "print(f'Unique IDs in resampled data set: {len(resampled_distribution.index.unique())}')"
   ]
  },
  {
   "attachments": {},
   "cell_type": "markdown",
   "metadata": {},
   "source": [
    "### Check similarity of distributions"
   ]
  },
  {
   "cell_type": "code",
   "execution_count": 283,
   "metadata": {},
   "outputs": [
    {
     "data": {
      "image/png": "[encoded data removed]",
      "text/plain": [
       "<Figure size 792x288 with 2 Axes>"
      ]
     },
     "metadata": {
      "needs_background": "light"
     },
     "output_type": "display_data"
    }
   ],
   "source": [
    "fig, (ax1, ax2) = plt.subplots(nrows=1, ncols=2, figsize=(11, 4))\n",
    "ax1.hist(distribution, bins=100, density=True)\n",
    "ax2.hist(resampled_distribution, bins=100, density=True);"
   ]
  },
  {
   "cell_type": "code",
   "execution_count": 284,
   "metadata": {},
   "outputs": [],
   "source": [
    "# Information entropy\n",
    "def kl_divergence(p, q):\n",
    "    return np.sum(np.where(p != 0, p * np.log(p / q), 0))"
   ]
  },
  {
   "cell_type": "code",
   "execution_count": 285,
   "metadata": {},
   "outputs": [
    {
     "data": {
      "text/plain": [
       "inf"
      ]
     },
     "execution_count": 285,
     "metadata": {},
     "output_type": "execute_result"
    }
   ],
   "source": [
    "from scipy.special import rel_entr\n",
    "sum(rel_entr(distribution.values, resampled_distribution.values))"
   ]
  },
  {
   "cell_type": "code",
   "execution_count": 286,
   "metadata": {},
   "outputs": [
    {
     "name": "stderr",
     "output_type": "stream",
     "text": [
      "/tmp/ipykernel_1439/4038897584.py:3: RuntimeWarning: divide by zero encountered in log\n",
      "  return np.sum(np.where(p != 0, p * np.log(p / q), 0))\n",
      "/tmp/ipykernel_1439/4038897584.py:3: RuntimeWarning: invalid value encountered in multiply\n",
      "  return np.sum(np.where(p != 0, p * np.log(p / q), 0))\n"
     ]
    },
    {
     "data": {
      "text/plain": [
       "0.0003144160258688707"
      ]
     },
     "execution_count": 286,
     "metadata": {},
     "output_type": "execute_result"
    }
   ],
   "source": [
    "kl_divergence(resampled_distribution.values, distribution.values)"
   ]
  },
  {
   "attachments": {},
   "cell_type": "markdown",
   "metadata": {},
   "source": [
    "### Join resampled with incidents "
   ]
  },
  {
   "cell_type": "code",
   "execution_count": 324,
   "metadata": {},
   "outputs": [
    {
     "data": {
      "text/html": [
       "<div>\n",
       "<style scoped>\n",
       "    .dataframe tbody tr th:only-of-type {\n",
       "        vertical-align: middle;\n",
       "    }\n",
       "\n",
       "    .dataframe tbody tr th {\n",
       "        vertical-align: top;\n",
       "    }\n",
       "\n",
       "    .dataframe thead th {\n",
       "        text-align: right;\n",
       "    }\n",
       "</style>\n",
       "<table border=\"1\" class=\"dataframe\">\n",
       "  <thead>\n",
       "    <tr style=\"text-align: right;\">\n",
       "      <th></th>\n",
       "      <th>xcoor</th>\n",
       "      <th>ycoor</th>\n",
       "    </tr>\n",
       "    <tr>\n",
       "      <th>ssbid1000M</th>\n",
       "      <th></th>\n",
       "      <th></th>\n",
       "    </tr>\n",
       "  </thead>\n",
       "  <tbody>\n",
       "    <tr>\n",
       "      <th>22640006631000</th>\n",
       "      <td>264500</td>\n",
       "      <td>6631500</td>\n",
       "    </tr>\n",
       "    <tr>\n",
       "      <th>22420006641000</th>\n",
       "      <td>242500</td>\n",
       "      <td>6641500</td>\n",
       "    </tr>\n",
       "    <tr>\n",
       "      <th>22650006640000</th>\n",
       "      <td>265500</td>\n",
       "      <td>6640500</td>\n",
       "    </tr>\n",
       "    <tr>\n",
       "      <th>22640006652000</th>\n",
       "      <td>264500</td>\n",
       "      <td>6652500</td>\n",
       "    </tr>\n",
       "    <tr>\n",
       "      <th>22530006621000</th>\n",
       "      <td>253500</td>\n",
       "      <td>6621500</td>\n",
       "    </tr>\n",
       "    <tr>\n",
       "      <th>...</th>\n",
       "      <td>...</td>\n",
       "      <td>...</td>\n",
       "    </tr>\n",
       "    <tr>\n",
       "      <th>23210006639000</th>\n",
       "      <td>321500</td>\n",
       "      <td>6639500</td>\n",
       "    </tr>\n",
       "    <tr>\n",
       "      <th>22940006659000</th>\n",
       "      <td>294500</td>\n",
       "      <td>6659500</td>\n",
       "    </tr>\n",
       "    <tr>\n",
       "      <th>23020006672000</th>\n",
       "      <td>302500</td>\n",
       "      <td>6672500</td>\n",
       "    </tr>\n",
       "    <tr>\n",
       "      <th>22840006624000</th>\n",
       "      <td>284500</td>\n",
       "      <td>6624500</td>\n",
       "    </tr>\n",
       "    <tr>\n",
       "      <th>22610006632000</th>\n",
       "      <td>261500</td>\n",
       "      <td>6632500</td>\n",
       "    </tr>\n",
       "  </tbody>\n",
       "</table>\n",
       "<p>2606 rows × 2 columns</p>\n",
       "</div>"
      ],
      "text/plain": [
       "                 xcoor    ycoor\n",
       "ssbid1000M                     \n",
       "22640006631000  264500  6631500\n",
       "22420006641000  242500  6641500\n",
       "22650006640000  265500  6640500\n",
       "22640006652000  264500  6652500\n",
       "22530006621000  253500  6621500\n",
       "...                ...      ...\n",
       "23210006639000  321500  6639500\n",
       "22940006659000  294500  6659500\n",
       "23020006672000  302500  6672500\n",
       "22840006624000  284500  6624500\n",
       "22610006632000  261500  6632500\n",
       "\n",
       "[2606 rows x 2 columns]"
      ]
     },
     "execution_count": 324,
     "metadata": {},
     "output_type": "execute_result"
    }
   ],
   "source": [
    "spacial_lookup = spacial.drop_duplicates().set_index('ssbid1000M')\n",
    "spacial_lookup"
   ]
  },
  {
   "cell_type": "code",
   "execution_count": 331,
   "metadata": {},
   "outputs": [
    {
     "data": {
      "text/html": [
       "<div>\n",
       "<style scoped>\n",
       "    .dataframe tbody tr th:only-of-type {\n",
       "        vertical-align: middle;\n",
       "    }\n",
       "\n",
       "    .dataframe tbody tr th {\n",
       "        vertical-align: top;\n",
       "    }\n",
       "\n",
       "    .dataframe thead th {\n",
       "        text-align: right;\n",
       "    }\n",
       "</style>\n",
       "<table border=\"1\" class=\"dataframe\">\n",
       "  <thead>\n",
       "    <tr style=\"text-align: right;\">\n",
       "      <th></th>\n",
       "      <th>xcoor</th>\n",
       "      <th>ycoor</th>\n",
       "      <th>ssbid1000M</th>\n",
       "    </tr>\n",
       "  </thead>\n",
       "  <tbody>\n",
       "    <tr>\n",
       "      <th>0</th>\n",
       "      <td>278500</td>\n",
       "      <td>6653500</td>\n",
       "      <td>22780006653000</td>\n",
       "    </tr>\n",
       "    <tr>\n",
       "      <th>1</th>\n",
       "      <td>278500</td>\n",
       "      <td>6653500</td>\n",
       "      <td>22780006653000</td>\n",
       "    </tr>\n",
       "    <tr>\n",
       "      <th>2</th>\n",
       "      <td>278500</td>\n",
       "      <td>6653500</td>\n",
       "      <td>22780006653000</td>\n",
       "    </tr>\n",
       "    <tr>\n",
       "      <th>3</th>\n",
       "      <td>278500</td>\n",
       "      <td>6653500</td>\n",
       "      <td>22780006653000</td>\n",
       "    </tr>\n",
       "    <tr>\n",
       "      <th>4</th>\n",
       "      <td>278500</td>\n",
       "      <td>6653500</td>\n",
       "      <td>22780006653000</td>\n",
       "    </tr>\n",
       "    <tr>\n",
       "      <th>...</th>\n",
       "      <td>...</td>\n",
       "      <td>...</td>\n",
       "      <td>...</td>\n",
       "    </tr>\n",
       "    <tr>\n",
       "      <th>585369</th>\n",
       "      <td>268500</td>\n",
       "      <td>6616500</td>\n",
       "      <td>22680006616000</td>\n",
       "    </tr>\n",
       "    <tr>\n",
       "      <th>585370</th>\n",
       "      <td>300500</td>\n",
       "      <td>6670500</td>\n",
       "      <td>23000006670000</td>\n",
       "    </tr>\n",
       "    <tr>\n",
       "      <th>585371</th>\n",
       "      <td>281500</td>\n",
       "      <td>6624500</td>\n",
       "      <td>22810006624000</td>\n",
       "    </tr>\n",
       "    <tr>\n",
       "      <th>585372</th>\n",
       "      <td>300500</td>\n",
       "      <td>6679500</td>\n",
       "      <td>23000006679000</td>\n",
       "    </tr>\n",
       "    <tr>\n",
       "      <th>585373</th>\n",
       "      <td>300500</td>\n",
       "      <td>6637500</td>\n",
       "      <td>23000006637000</td>\n",
       "    </tr>\n",
       "  </tbody>\n",
       "</table>\n",
       "<p>585374 rows × 3 columns</p>\n",
       "</div>"
      ],
      "text/plain": [
       "         xcoor    ycoor      ssbid1000M\n",
       "0       278500  6653500  22780006653000\n",
       "1       278500  6653500  22780006653000\n",
       "2       278500  6653500  22780006653000\n",
       "3       278500  6653500  22780006653000\n",
       "4       278500  6653500  22780006653000\n",
       "...        ...      ...             ...\n",
       "585369  268500  6616500  22680006616000\n",
       "585370  300500  6670500  23000006670000\n",
       "585371  281500  6624500  22810006624000\n",
       "585372  300500  6679500  23000006679000\n",
       "585373  300500  6637500  23000006637000\n",
       "\n",
       "[585374 rows x 3 columns]"
      ]
     },
     "execution_count": 331,
     "metadata": {},
     "output_type": "execute_result"
    }
   ],
   "source": [
    "resampled_spacial = pd.merge(resampled, spacial_lookup, on='ssbid1000M')\n",
    "resampled_spacial = resampled_spacial[spacial.columns]\n",
    "resampled_spacial"
   ]
  },
  {
   "cell_type": "code",
   "execution_count": 356,
   "metadata": {},
   "outputs": [
    {
     "data": {
      "text/html": [
       "<div>\n",
       "<style scoped>\n",
       "    .dataframe tbody tr th:only-of-type {\n",
       "        vertical-align: middle;\n",
       "    }\n",
       "\n",
       "    .dataframe tbody tr th {\n",
       "        vertical-align: top;\n",
       "    }\n",
       "\n",
       "    .dataframe thead th {\n",
       "        text-align: right;\n",
       "    }\n",
       "</style>\n",
       "<table border=\"1\" class=\"dataframe\">\n",
       "  <thead>\n",
       "    <tr style=\"text-align: right;\">\n",
       "      <th></th>\n",
       "      <th>hastegrad</th>\n",
       "      <th>tidspunkt</th>\n",
       "      <th>xcoor</th>\n",
       "      <th>ycoor</th>\n",
       "      <th>ssbid1000M</th>\n",
       "    </tr>\n",
       "  </thead>\n",
       "  <tbody>\n",
       "    <tr>\n",
       "      <th>0</th>\n",
       "      <td>A</td>\n",
       "      <td>2015-02-13 09:23:18</td>\n",
       "      <td>278500.0</td>\n",
       "      <td>6653500.0</td>\n",
       "      <td>2.278001e+13</td>\n",
       "    </tr>\n",
       "    <tr>\n",
       "      <th>1</th>\n",
       "      <td>A</td>\n",
       "      <td>2015-02-13 14:01:29</td>\n",
       "      <td>278500.0</td>\n",
       "      <td>6653500.0</td>\n",
       "      <td>2.278001e+13</td>\n",
       "    </tr>\n",
       "    <tr>\n",
       "      <th>2</th>\n",
       "      <td>V1</td>\n",
       "      <td>2015-02-13 13:35:14</td>\n",
       "      <td>278500.0</td>\n",
       "      <td>6653500.0</td>\n",
       "      <td>2.278001e+13</td>\n",
       "    </tr>\n",
       "    <tr>\n",
       "      <th>3</th>\n",
       "      <td>H</td>\n",
       "      <td>2015-02-13 05:09:00</td>\n",
       "      <td>278500.0</td>\n",
       "      <td>6653500.0</td>\n",
       "      <td>2.278001e+13</td>\n",
       "    </tr>\n",
       "    <tr>\n",
       "      <th>4</th>\n",
       "      <td>V1</td>\n",
       "      <td>2015-02-13 16:00:39</td>\n",
       "      <td>278500.0</td>\n",
       "      <td>6653500.0</td>\n",
       "      <td>2.278001e+13</td>\n",
       "    </tr>\n",
       "    <tr>\n",
       "      <th>...</th>\n",
       "      <td>...</td>\n",
       "      <td>...</td>\n",
       "      <td>...</td>\n",
       "      <td>...</td>\n",
       "      <td>...</td>\n",
       "    </tr>\n",
       "    <tr>\n",
       "      <th>585348</th>\n",
       "      <td>NaN</td>\n",
       "      <td>NaN</td>\n",
       "      <td>302500.0</td>\n",
       "      <td>6673500.0</td>\n",
       "      <td>2.302001e+13</td>\n",
       "    </tr>\n",
       "    <tr>\n",
       "      <th>585355</th>\n",
       "      <td>NaN</td>\n",
       "      <td>NaN</td>\n",
       "      <td>295500.0</td>\n",
       "      <td>6688500.0</td>\n",
       "      <td>2.295001e+13</td>\n",
       "    </tr>\n",
       "    <tr>\n",
       "      <th>585360</th>\n",
       "      <td>NaN</td>\n",
       "      <td>NaN</td>\n",
       "      <td>290500.0</td>\n",
       "      <td>6699500.0</td>\n",
       "      <td>2.290001e+13</td>\n",
       "    </tr>\n",
       "    <tr>\n",
       "      <th>585361</th>\n",
       "      <td>NaN</td>\n",
       "      <td>NaN</td>\n",
       "      <td>286500.0</td>\n",
       "      <td>6634500.0</td>\n",
       "      <td>2.286001e+13</td>\n",
       "    </tr>\n",
       "    <tr>\n",
       "      <th>585362</th>\n",
       "      <td>NaN</td>\n",
       "      <td>NaN</td>\n",
       "      <td>300500.0</td>\n",
       "      <td>6631500.0</td>\n",
       "      <td>2.300001e+13</td>\n",
       "    </tr>\n",
       "  </tbody>\n",
       "</table>\n",
       "<p>708614 rows × 5 columns</p>\n",
       "</div>"
      ],
      "text/plain": [
       "       hastegrad            tidspunkt     xcoor      ycoor    ssbid1000M\n",
       "0              A  2015-02-13 09:23:18  278500.0  6653500.0  2.278001e+13\n",
       "1              A  2015-02-13 14:01:29  278500.0  6653500.0  2.278001e+13\n",
       "2             V1  2015-02-13 13:35:14  278500.0  6653500.0  2.278001e+13\n",
       "3              H  2015-02-13 05:09:00  278500.0  6653500.0  2.278001e+13\n",
       "4             V1  2015-02-13 16:00:39  278500.0  6653500.0  2.278001e+13\n",
       "...          ...                  ...       ...        ...           ...\n",
       "585348       NaN                  NaN  302500.0  6673500.0  2.302001e+13\n",
       "585355       NaN                  NaN  295500.0  6688500.0  2.295001e+13\n",
       "585360       NaN                  NaN  290500.0  6699500.0  2.290001e+13\n",
       "585361       NaN                  NaN  286500.0  6634500.0  2.286001e+13\n",
       "585362       NaN                  NaN  300500.0  6631500.0  2.300001e+13\n",
       "\n",
       "[708614 rows x 5 columns]"
      ]
     },
     "execution_count": 356,
     "metadata": {},
     "output_type": "execute_result"
    }
   ],
   "source": [
    "incidents = incidents.drop(resampled_spacial.columns, axis=1)\n",
    "incidents = pd.concat([incidents, resampled_spacial], axis=1)\n",
    "incidents"
   ]
  },
  {
   "attachments": {},
   "cell_type": "markdown",
   "metadata": {},
   "source": [
    "## Visualize as heatmap"
   ]
  },
  {
   "cell_type": "code",
   "execution_count": null,
   "metadata": {},
   "outputs": [
    {
     "data": {
      "text/html": [
       "<div>\n",
       "<style scoped>\n",
       "    .dataframe tbody tr th:only-of-type {\n",
       "        vertical-align: middle;\n",
       "    }\n",
       "\n",
       "    .dataframe tbody tr th {\n",
       "        vertical-align: top;\n",
       "    }\n",
       "\n",
       "    .dataframe thead th {\n",
       "        text-align: right;\n",
       "    }\n",
       "</style>\n",
       "<table border=\"1\" class=\"dataframe\">\n",
       "  <thead>\n",
       "    <tr style=\"text-align: right;\">\n",
       "      <th></th>\n",
       "      <th>xcoor</th>\n",
       "      <th>ycoor</th>\n",
       "      <th>counts</th>\n",
       "    </tr>\n",
       "  </thead>\n",
       "  <tbody>\n",
       "    <tr>\n",
       "      <th>22630006667000</th>\n",
       "      <td>263500.0</td>\n",
       "      <td>6667500.0</td>\n",
       "      <td>0</td>\n",
       "    </tr>\n",
       "    <tr>\n",
       "      <th>22730006666000</th>\n",
       "      <td>273500.0</td>\n",
       "      <td>6666500.0</td>\n",
       "      <td>0</td>\n",
       "    </tr>\n",
       "    <tr>\n",
       "      <th>22720006666000</th>\n",
       "      <td>272500.0</td>\n",
       "      <td>6666500.0</td>\n",
       "      <td>0</td>\n",
       "    </tr>\n",
       "    <tr>\n",
       "      <th>22690006666000</th>\n",
       "      <td>269500.0</td>\n",
       "      <td>6666500.0</td>\n",
       "      <td>0</td>\n",
       "    </tr>\n",
       "    <tr>\n",
       "      <th>22670006666000</th>\n",
       "      <td>267500.0</td>\n",
       "      <td>6666500.0</td>\n",
       "      <td>0</td>\n",
       "    </tr>\n",
       "    <tr>\n",
       "      <th>...</th>\n",
       "      <td>...</td>\n",
       "      <td>...</td>\n",
       "      <td>...</td>\n",
       "    </tr>\n",
       "    <tr>\n",
       "      <th>621</th>\n",
       "      <td>262500.0</td>\n",
       "      <td>6651500.0</td>\n",
       "      <td>9811</td>\n",
       "    </tr>\n",
       "    <tr>\n",
       "      <th>123</th>\n",
       "      <td>248500.0</td>\n",
       "      <td>6648500.0</td>\n",
       "      <td>10570</td>\n",
       "    </tr>\n",
       "    <tr>\n",
       "      <th>546</th>\n",
       "      <td>260500.0</td>\n",
       "      <td>6653500.0</td>\n",
       "      <td>15341</td>\n",
       "    </tr>\n",
       "    <tr>\n",
       "      <th>1108</th>\n",
       "      <td>276500.0</td>\n",
       "      <td>6650500.0</td>\n",
       "      <td>17295</td>\n",
       "    </tr>\n",
       "    <tr>\n",
       "      <th>619</th>\n",
       "      <td>262500.0</td>\n",
       "      <td>6649500.0</td>\n",
       "      <td>49874</td>\n",
       "    </tr>\n",
       "  </tbody>\n",
       "</table>\n",
       "<p>5569 rows × 3 columns</p>\n",
       "</div>"
      ],
      "text/plain": [
       "                   xcoor      ycoor  counts\n",
       "22630006667000  263500.0  6667500.0       0\n",
       "22730006666000  273500.0  6666500.0       0\n",
       "22720006666000  272500.0  6666500.0       0\n",
       "22690006666000  269500.0  6666500.0       0\n",
       "22670006666000  267500.0  6666500.0       0\n",
       "...                  ...        ...     ...\n",
       "621             262500.0  6651500.0    9811\n",
       "123             248500.0  6648500.0   10570\n",
       "546             260500.0  6653500.0   15341\n",
       "1108            276500.0  6650500.0   17295\n",
       "619             262500.0  6649500.0   49874\n",
       "\n",
       "[5569 rows x 3 columns]"
      ]
     },
     "execution_count": 259,
     "metadata": {},
     "output_type": "execute_result"
    }
   ],
   "source": [
    "counts = incidents.groupby(['xcoor', 'ycoor'], as_index=False).size()\n",
    "counts['counts'] = counts['size']\n",
    "counts.drop(['size'], axis=1, inplace=True)\n",
    "\n",
    "empty_cells = pd.read_csv('data/empty_cells.csv', encoding='utf-8', index_col=0)\n",
    "empty_cells = empty_cells[['X', 'Y']].rename(columns={'X': 'xcoor', 'Y': 'ycoor'})\n",
    "counts = pd.concat([counts, empty_cells.assign(counts=0)]) \n",
    "\n",
    "counts.sort_values('counts')"
   ]
  }
 ],
 "metadata": {
  "kernelspec": {
   "display_name": "venv",
   "language": "python",
   "name": "python3"
  },
  "language_info": {
   "codemirror_mode": {
    "name": "ipython",
    "version": 3
   },
   "file_extension": ".py",
   "mimetype": "text/x-python",
   "name": "python",
   "nbconvert_exporter": "python",
   "pygments_lexer": "ipython3",
   "version": "3.9.5"
  },
  "orig_nbformat": 4,
  "vscode": {
   "interpreter": {
    "hash": "20418bcb101ca20e4e4f91b19789718533c5333d162cd624f05843b59c2d8a65"
   }
  }
 },
 "nbformat": 4,
 "nbformat_minor": 2
}
